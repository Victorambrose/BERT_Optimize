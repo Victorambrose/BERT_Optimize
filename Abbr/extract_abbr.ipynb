{
 "cells": [
  {
   "cell_type": "code",
   "execution_count": 5,
   "metadata": {},
   "outputs": [],
   "source": [
    "# Extracting text from https://histatelawlibrary.com/wp-content/uploads/2018/07/LegalAbbreviations_ada.pdf\n",
    "\n",
    "histatelawlibrary=[\"A.A. Atlantic Reporter [ KF135 A7 ] A-14A\",\n",
    "\"ADA Americans with Disabilities Act [ KF480.2 ] B-8B\",\n",
    "\"ALR American Law Reports [ KF132 ] Basement\",\n",
    "\"ALR2d American Law Reports, 2d Series A-12B\",\n",
    "\"AmJur American Jurisprudence Basement\",\n",
    "\"AmJur2d American Jurisprudence 2d [ KF154 A42 ] B-7A\",\n",
    "\"AmJurPOF American Jurisprudence Proof of Facts [ KF8931 ] B-28B\",\n",
    "\"B.R. or B.R.W. Bankruptcy Reporter [ KF1515.3 W47 ] B-16B\",\n",
    "\"Cal. Rptr. California Reporter (West’s) [ KF135 C70 ] A-17A\",\n",
    "\"CFR Code of Federal Regulations A-4A\",\n",
    "\"CJ Corpus Juris Basement\",\n",
    "\"CJS Corpus Juris Secundum [ KF154 C81 ] B-7A\",\n",
    "\"CrL Criminal Law Reporter [ KF9214 C86 ] B-29A\",\n",
    "\"F. Federal Reporter [ KF105 F3 ] A-6A\",\n",
    "\"FamLRep. Family Law Reporter (BNA) [ KF501 A3 F21 ] B-9A\",\n",
    "\"Fed.Cl. Federal Claims Reporter [ KF125 C5 U55 ] A-11A\",\n",
    "\"Fed.R.Evid.Serv. Federal Rules of Evidence Service [ KF8933 F31 ] B-28B\",\n",
    "\"FEP Cases Fair Employment Practice Cases (BNA) [ KF3315 L32 ] B-20\",\n",
    "\"F.R. Federal Register A-3B\",\n",
    "\"FRD Federal Rules Decisions [ KF8830 F31 ] B-26B\",\n",
    "\"F.S. or F.Supp. Federal Supplement [ KF105 F40 ] A-11A\",\n",
    "\"H. or Haw. Hawai‘i Reports [ KFH45 A2 ] A-9A\",\n",
    "\"H.A. or Haw.App. Hawai‘i Appellate Reports [ KFH48 A2 ] A-9A\",\n",
    "\"HBJ Hawai‘i Bar Journal RefRm\",\n",
    "\"HBN Hawai‘i Bar News RefRm\",\n",
    "\"HLR Hawai‘i Legal Reporter [ KFH55 H31 ] A-9A\",\n",
    "\"HRS Hawai‘i Revised Statutes [ KFH 30 ] A-9A\",\n",
    "\"HRSA Hawai‘i Revised Statutes Annotated [ KFH30 A4 ] Desk\",\n",
    "\"Last Updated: January 2010 \",\n",
    "\"Last Updated: January 2010\",\n",
    "\"Abbreviation Title [ Class No. or Call No. ] Range No.\",\n",
    "\"I & N Dec. Immigration and Nationality Decisions Basement\",\n",
    "\"L.Ed.2d United States Supreme Court Reports Lawyer’s Edition 2d Series [KF101.8 U54] A-5B\",\n",
    "\"Law Week United States Law Week [ KF101.8 U70 ] A-5B\",\n",
    "\"LRRM Labor Relations Reference Manual (BNA) [ KF3315 L38 ] B-20\",\n",
    "\"Moore’s Moore’s Federal Practice [ KF8835 M78 ] B-27A\",\n",
    "\"N.E. Northeastern Reporter [ KF135 N59 ] A-22A\",\n",
    "\"N.W. Northwestern Reporter [ KF135 N69 ] A-24A\",\n",
    "\"N.Y.S. New York Supplement [ KF135 N49 ] A-18B\",\n",
    "\"P. Pacific Reporter [ KF135 P2 ] A-25A\",\n",
    "\"P.L. Public Laws (in U.S. Statutes-at-Large) A-2B\",\n",
    "\"PUR Public Utilities Reports Basement\",\n",
    "\"S.Ct. Supreme Court Reporter [ KF101.8 S9 ] A-5A\",\n",
    "\"S.E. Southeastern Reporter [ KF135 S6 ] A-29A\",\n",
    "\"So. Southern Reporter [ KF135 S69 ] A-30B\",\n",
    "\"Stat. U.S. Statutes-at-Large A-2B\",\n",
    "\"S.W. Southwestern Reporter [ KF135 S79 ] A-32A\",\n",
    "\"T.C. United States Tax Court Reports [ KF6280 A2 U55 ] B-23B\",\n",
    "\"T.I.A.S. United States Treaties and other International Act Series B-4C\",\n",
    "\"UCC Uniform Commercial Code [ KF879 ] B-10B\",\n",
    "\"UHLR or U.Hawai‘i L.Rev. University of Hawai‘i Law Review RefRm\",\n",
    "\"ULA Uniform Laws Annotated [ KF165 A5 ] B-7B\",\n",
    "\"U.S. United States Reports [ KF101 A15 ] A-4B\",\n",
    "\"U.S.C. United States Code [ KF62 ] A-3A\",\n",
    "\"U.S.C.A. United States Code Annotated [ KF65 U5 ] A-3A\",\n",
    "\"USCCAN United States Code Congressional and Administrative News A-2B\",\n",
    "\"USCS United States Code Service [ KF65 U8 ] A-3B\",\n",
    "\"USLW United States Law Week [ KF101.8 U70 ] A-5B\",\n",
    "\"U.S.D.C. Haw Reports of the U.S. District Court of Hawai‘i [ KFH55 U54 ] A-9A\",\n",
    "\"U.S.T. United States Treaties and Other International Agreements [JX231 A34] B-4A\",\n",
    "\"USTC U.S. Tax Cases (CCH) [ KF6280 A2 U44 ] B-23B Atlantic Reporter [ KF135 A7 ] A-14A\",\n",
    "\"ADA Americans with Disabilities Act [ KF480.2 ] B-8B\",\n",
    "\"ALR American Law Reports [ KF132 ] Basement\",\n",
    "\"ALR2d American Law Reports, 2d Series A-12B\",\n",
    "\"AmJur American Jurisprudence Basement\",\n",
    "\"AmJur2d American Jurisprudence 2d [ KF154 A42 ] B-7A\",\n",
    "\"AmJurPOF American Jurisprudence Proof of Facts [ KF8931 ] B-28B\",\n",
    "\"B.R. or B.R.W. Bankruptcy Reporter [ KF1515.3 W47 ] B-16B\",\n",
    "\"Cal. Rptr. California Reporter (West’s) [ KF135 C70 ] A-17A\",\n",
    "\"CFR Code of Federal Regulations A-4A\",\n",
    "\"CJ Corpus Juris Basement\",\n",
    "\"CJS Corpus Juris Secundum [ KF154 C81 ] B-7A\",\n",
    "\"CrL Criminal Law Reporter [ KF9214 C86 ] B-29A\",\n",
    "\"F. Federal Reporter [ KF105 F3 ] A-6A\",\n",
    "\"FamLRep. Family Law Reporter (BNA) [ KF501 A3 F21 ] B-9A\",\n",
    "\"Fed.Cl. Federal Claims Reporter [ KF125 C5 U55 ] A-11A\",\n",
    "\"Fed.R.Evid.Serv. Federal Rules of Evidence Service [ KF8933 F31 ] B-28B\",\n",
    "\"FEP Cases Fair Employment Practice Cases (BNA) [ KF3315 L32 ] B-20\",\n",
    "\"F.R. Federal Register A-3B\",\n",
    "\"FRD Federal Rules Decisions [ KF8830 F31 ] B-26B\",\n",
    "\"F.S. or F.Supp. Federal Supplement [ KF105 F40 ] A-11A\",\n",
    "\"H. or Haw. Hawai‘i Reports [ KFH45 A2 ] A-9A\",\n",
    "\"H.A. or Haw.App. Hawai‘i Appellate Reports [ KFH48 A2 ] A-9A\",\n",
    "\"HBJ Hawai‘i Bar Journal RefRm\",\n",
    "\"HBN Hawai‘i Bar News RefRm\",\n",
    "\"HLR Hawai‘i Legal Reporter [ KFH55 H31 ] A-9A\",\n",
    "\"HRS Hawai‘i Revised Statutes [ KFH 30 ] A-9A\",\n",
    "\"HRSA Hawai‘i Revised Statutes Annotated [ KFH30 A4 ] Desk\",\n",
    "\"Last Updated: January 2010 \",\n",
    "\"Last Updated: January 2010\",\n",
    "\"Abbreviation Title [ Class No. or Call No. ] Range No.\",\n",
    "\"I & N Dec. Immigration and Nationality Decisions Basement\",\n",
    "\"L.Ed.2d United States Supreme Court Reports Lawyer’s Edition 2d Series [KF101.8 U54] A-5B\",\n",
    "\"Law Week United States Law Week [ KF101.8 U70 ] A-5B\",\n",
    "\"LRRM Labor Relations Reference Manual (BNA) [ KF3315 L38 ] B-20\",\n",
    "\"Moore’s Moore’s Federal Practice [ KF8835 M78 ] B-27A\",\n",
    "\"N.E. Northeastern Reporter [ KF135 N59 ] A-22A\",\n",
    "\"N.W. Northwestern Reporter [ KF135 N69 ] A-24A\",\n",
    "\"N.Y.S. New York Supplement [ KF135 N49 ] A-18B\",\n",
    "\"P. Pacific Reporter [ KF135 P2 ] A-25A\",\n",
    "\"P.L. Public Laws (in U.S. Statutes-at-Large) A-2B\",\n",
    "\"PUR Public Utilities Reports Basement\",\n",
    "\"S.Ct. Supreme Court Reporter [ KF101.8 S9 ] A-5A\",\n",
    "\"S.E. Southeastern Reporter [ KF135 S6 ] A-29A\",\n",
    "\"So. Southern Reporter [ KF135 S69 ] A-30B\",\n",
    "\"Stat. U.S. Statutes-at-Large A-2B\",\n",
    "\"S.W. Southwestern Reporter [ KF135 S79 ] A-32A\",\n",
    "\"T.C. United States Tax Court Reports [ KF6280 A2 U55 ] B-23B\",\n",
    "\"T.I.A.S. United States Treaties and other International Act Series B-4C\",\n",
    "\"UCC Uniform Commercial Code [ KF879 ] B-10B\",\n",
    "\"UHLR or U.Hawai‘i L.Rev. University of Hawai‘i Law Review RefRm\",\n",
    "\"ULA Uniform Laws Annotated [ KF165 A5 ] B-7B\",\n",
    "\"U.S. United States Reports [ KF101 A15 ] A-4B\",\n",
    "\"U.S.C. United States Code [ KF62 ] A-3A\",\n",
    "\"U.S.C.A. United States Code Annotated [ KF65 U5 ] A-3A\",\n",
    "\"USCCAN United States Code Congressional and Administrative News A-2B\",\n",
    "\"USCS United States Code Service [ KF65 U8 ] A-3B\",\n",
    "\"USLW United States Law Week [ KF101.8 U70 ] A-5B\",\n",
    "\"U.S.D.C. Haw Reports of the U.S. District Court of Hawai‘i [ KFH55 U54 ] A-9A\",\n",
    "\"U.S.T. United States Treaties and Other International Agreements [JX231 A34] B-4A\",\n",
    "\"USTC U.S. Tax Cases (CCH) [ KF6280 A2 U44 ] B-23B \"]\n",
    "\n",
    "dict1={}\n",
    "for text1 in histatelawlibrary:\n",
    "  text1_split=text1.split(' ')\n",
    "  expansion=' '.join( s for s in text1_split[1:-1] if s!='[' or s!= ']').replace('[','').replace(']','').replace('  ',' ').strip()\n",
    "  dict1[text1_split[0]]=expansion"
   ]
  },
  {
   "cell_type": "code",
   "execution_count": null,
   "metadata": {},
   "outputs": [],
   "source": [
    "from US_legal_dict import US_legal_abbr\n",
    "US_legal_abbr.update(dict1)\n"
   ]
  },
  {
   "cell_type": "code",
   "execution_count": 11,
   "metadata": {},
   "outputs": [],
   "source": [
    "dict_path = \"/Users/amburose/Desktop/BERT_Optimize/Abbr/US_legal_dict.py\"\n",
    "\n",
    "with open(dict_path, \"w\") as f:\n",
    "    f.write(\"US_legal_abbr = \" + repr(US_legal_abbr))"
   ]
  },
  {
   "cell_type": "code",
   "execution_count": 12,
   "metadata": {},
   "outputs": [
    {
     "data": {
      "text/plain": [
       "370"
      ]
     },
     "execution_count": 12,
     "metadata": {},
     "output_type": "execute_result"
    }
   ],
   "source": [
    "from US_legal_dict import US_legal_abbr\n",
    "len(US_legal_abbr)"
   ]
  },
  {
   "cell_type": "code",
   "execution_count": 10,
   "metadata": {},
   "outputs": [
    {
     "data": {
      "text/plain": [
       "60"
      ]
     },
     "execution_count": 10,
     "metadata": {},
     "output_type": "execute_result"
    }
   ],
   "source": [
    "len(dict1)"
   ]
  },
  {
   "cell_type": "code",
   "execution_count": null,
   "metadata": {},
   "outputs": [],
   "source": []
  }
 ],
 "metadata": {
  "kernelspec": {
   "display_name": "Python 3",
   "language": "python",
   "name": "python3"
  },
  "language_info": {
   "codemirror_mode": {
    "name": "ipython",
    "version": 3
   },
   "file_extension": ".py",
   "mimetype": "text/x-python",
   "name": "python",
   "nbconvert_exporter": "python",
   "pygments_lexer": "ipython3",
   "version": "3.12.9"
  }
 },
 "nbformat": 4,
 "nbformat_minor": 2
}
