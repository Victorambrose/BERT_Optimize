{
 "cells": [
  {
   "cell_type": "markdown",
   "id": "f5f8a953",
   "metadata": {},
   "source": [
    "# Deduplicate and Sort the words bassed on TFIDF"
   ]
  },
  {
   "cell_type": "code",
   "execution_count": 1,
   "id": "727a17d0",
   "metadata": {},
   "outputs": [
    {
     "data": {
      "text/plain": [
       "DatasetDict({\n",
       "    train: Dataset({\n",
       "        features: ['text', 'label'],\n",
       "        num_rows: 5000\n",
       "    })\n",
       "    test: Dataset({\n",
       "        features: ['text', 'label'],\n",
       "        num_rows: 1400\n",
       "    })\n",
       "    validation: Dataset({\n",
       "        features: ['text', 'label'],\n",
       "        num_rows: 1400\n",
       "    })\n",
       "})"
      ]
     },
     "execution_count": 1,
     "metadata": {},
     "output_type": "execute_result"
    }
   ],
   "source": [
    "from datasets import load_dataset\n",
    "\n",
    "dataset = load_dataset(\"coastalcph/lex_glue\", \"scotus\")\n",
    "dataset"
   ]
  },
  {
   "cell_type": "code",
   "execution_count": 2,
   "id": "f5f30cd0",
   "metadata": {},
   "outputs": [
    {
     "name": "stdout",
     "output_type": "stream",
     "text": [
      "Sample processed text from train split:\n",
      "Cimarron offerers Valvoline servitudes Enid racks arouses 19a mastery CHAMPLIN connects refinery Uncle charts tanks crosses converts maps understands subjection enclosed connect Sam tank crude tariffs indiscriminately departures unitary calculating pricing pipeline deliveries finished vitally inventory Originating continually carriage valuation differential generality disclaimed destination supplementary contemplation classify flows compiled remedied transmission wells gathering aforesaid purview stations Harry marketing premature commodity intrastate pipe lying producers REFINING convey departed fields partly transporting technically petroleum subordinate commodities treats owns exceeds falling transported artificial storage 1906 expenditures offend meaningless Valley copies Rock belonging schedule distributing truck hypothetical petitioned hire conventional practicable terminal Naturally road delegated manufacturing master expand greatest freight respond supplies prepare utility transport convened covers desires Edward Atlantic putting east drawing concrete prices arrived delivery competitive miles conformity formula evil calculated carriers brings carrier across Oklahoma carries BURTON undertake satisfactory affords car hereinafter owners purchased doubts stop stock timely Admittedly ownership enterprise possessed classification water 516 ends processes subjects overruled rates list furnish bears description chapter companies operates regulatory objections dependent incident market intentionally govern Western treat technical refer applicability South felt decree 234 imposing products obligations invoked product evident regulate length range owner contemplated transportation railroad extensive rate nearly carrying methods cover virtue mentioned facilities supports physical letter oil 329 produced comply addressed effects bearing detailed goes operated natural returned believed owned frequently violates subjected satisfy changes JACKSON authorize injunction bear price sale 308 reports cost December substance sum includes rests pages lines intention president Interstate standing file says interpreted appellant warrant carried covered definition orders stating economic prescribed heard method ultimate carry requested moved response self Rehearing points measure contends acting offered seem charges affect sole status Commerce condition taking Fifth controlling value accordance request page pertinent suggests meet Examination distinction account approved challenged difference dealing information applies always last greater regulation bring Title engaged asked test complete accept equal California described significant thereby company despite actual reverse adequate defined change entire days construed private dismissed thereof large express charge showing Commission operation quite face deemed conditions five interpretation sense included line Counsel issued Standard broad include directed report above directly join put acts property final Once dissent requiring become determining additional concerning show again expressly suit construction scope authorized requirements regard still words various doubt too addition contention hearing 58 service clause called period specific common requirement control reach added manner beyond 67 situation legislative How 48 yet 46 term DOUGLAS meaning practice history never reasonable amended 47 up simply 90 extent 49 84 June several apply properly much 91 say similar questions 37 recognized except language substantial applicable 60 41 far cause requires provide due means every including place Judicial determine 34 consider appropriate very ordered statutory process less about give merely applied reasons Amendment judge taken authority sought provisions think Appeal public filed long used respect though considered conclusion whom facts brought support ground different itself Congress three hold use Section certain another prior through et power own provided consideration reason 27 each provides matter 29 holding 30 although subject given being statute basis us 26 purpose well view over 23 Denied required what 22 While said Nor make found 21 28 into cannot them out then further order between shall some fact will 19 even 20 our first can cases delivered within District same Act since 17 18 more 16 against state must Those do law without After 14 part should 15 did their does they before 13 made than his question when also held Argued here Because These whether 12 upon all 11 one only there other 10 were if Decided See had so been has may would but such its any under have opinion United are at from we which an STATES was or be with Justice it not case as by This that on and in is to for Court no the of U.S. S.Ct. 1 L.Ed. COv.UNITED al. No. 21. Oct. 18, 21, 1946. Nov. Dec. 16, 831, 363. Oklahoma. Messrs.Dan Moody, Austin, Tex., O. Glasser, Enid, Okla., appellant. Mr. Dumbauld, Washington, D.C., appel- [Argument omitted] lees. Court. Commission, § Act,1 inventories, schedules, property.2 Champlin's order, unconstitutional, company's injunction.3 appeal. Code, 238, U.S.C. 345, U.S.C.A. 345. 2 a six-inch states. refinery, Kansas, Nebraska, Dakota, Iowa. Hutchinson, Kansas; Superior, Rapids, Iowa, made. 3 statute, relevant, 'to in,' 'transportation commodity' another. also, 'common carrier' 'all pipe-line companies.'4 appellant's operation. 4 contends, however, 'transportation' one's goods. line; transported, transport, person; points; refinery; instance; body. 5 Cases, 548, 956, 1459, v. States, 141, 160, 151, case. 'simply use, all, * *.' 562, 959, 1459. Act. 6 Champlin. line. hire. companies—a included. oil, completed; use. advantage. 7 moved. f.o.b. differential. (usually purchaser's business) destination. found, 'sometimes described.' 'rail price, transportation.' so, frequent, 8 Commission's information. 9 that, construed, carrier. implication. products. record. be. far, person. does, present, premonitions. Amendment. Affirmed. REED, FRANKFURTER, dissenting. 19a.1 sections, appellant, Company, make, sections. customers. carrier, oil. bar, stock. line, only, involved, in—* oil' commodities. Co. engaged, act, lines, offered, act's 'if sell' carrier's price. case, Stat. 584, 1920, 474, language. 145, 162, 151. noted, interstate. substance, form. offered. 'When, end.' Cases. construction, Court's interpretation. approach. 304(a)(3), U.S.C.A 304(a)(3). legislation. facilities.2 others, 'merely company. purpose—to market. tanks. competition. elsewhere. Commission. does. 'every provisions' 'subject 1(1)(b) 1(3). Therefore, construed. 1, to' Thus, instances, comers, (§ 1(4—6)); 6(1). If, requirements, 1. above, '* shall, investigate, ascertain, detail, provided, property, practicable, equipment, Commission.' 701, 19a, 19a. 15, 1941, 'a land, quantities, units, classes, kinds, thereof.' Nos. 27, comply. 12, 1944, complains. order. request. viewpoint. status. 14, 1942, reargument, §§ U.S.C., 46, 47, court, petition. '(1) (That) '(b) commodity, *. '(3) (a) companies; sleeping-car persons, artificial, hire.' amended, 1102, 1(3)(a), 'engaged hire', 'not companies.' 146, 1: in— gas, water; *' 19a: chapter. 558, 559, 958, 1459: 'By before-mentioned Ocean, points.'\n",
      "\n",
      "Sample processed text from validation split:\n",
      "Albernaz Cichos misperceived butt trio Sansone Albrecht Blockburger cumulatively feloniously Burks supermarket Whalen reexamined Sibron felonious accomplices perpetration stature nominally Gary 1438 discerning reexamination misreading firearms harsher substantively 1436 Benton habitual marihuana deadly warranting positively 1145 stigma accomplishing proscribing manifests fired 1575 negate incorrectly corrections 1143 1203 drove crystal consecutive 1054 shot inescapably Murray Tobacco killing pronouncement alert rape gun punishments presumptively strengthen hesitate commits nearby conditional proscribes cumulative overlooks theoretical complying proscribe enlarge Philip analyzed enhance prescribing prescribes Aims calendar acquittal evening pure apt distinguishes phrased sentencing typically irrational offender advances assault latitude condemnation hazards unequivocally specially store Jeopardy branches 882 distribute committing weapon robbery stopped differing front adjudged districts confession uniformity multiple fire concurrent compromise offering increases 820 917 manager discloses induce adhered qualification 872 sentences legislatures moral 646 673 perceive clerk punishable 702 convict felony 715 658 declares predicated putting murder Green Double 1981 victim suspended assessed arrived Harris 603 utilized 558 ended reversing vehicle 592 punish doubtful prosecutor submission 622 reconsideration 707 656 respectfully Kansas proscribed eligible armed assumes commit BURGER dangerous achieved punished bars import meaningful conspiracy collateral precludes 572 convinced saw emphasize 475 precedents net trials 619 593 violence violative twice prison branch release vacate creation 584 timely prosecutions defines 470 debate historical execution forbids damage fine 629 505 crimes defining ten transaction whereby bringing cast separately sub relevance STEVENS offenses 432 Missouri enacting parte prescribe retain elsewhere turned else 446 presumption acknowledged 535 sentenced intend 459 chose century represents struck content 135 convictions subsection rejecting penalty demonstrates 173 435 450 437 define 445 forbidden Carolina 439 Western amicus treat threat transfer background BLACKMUN causes familiar imprisonment 208 series elements punishment REHNQUIST identified 433 175 fear equivalent imposing 187 distinct 275 reduced 284 easily 148 imposition advantage usual 374 repeatedly imposes 412 quoting 190 131 authorizes serves nearly 120 449 formal 282 199 element critical demands 414 273 392 accorded agent dismissal notwithstanding restrictions 359 September 354 addressed entry ordinarily 118 refuse phrase began reject November bank remained 355 thing returned divided passage assertion North 395 something along Brown subjected wide satisfy 328 concerns relies constitutes division 385 risk 306 authorize contrast irrelevant legislature task ability lead 380 sentence contended injury likewise violations vacated her told apart employee offense tried police 377 immediate 102 bound prohibition indication impact announced regarded men interpreted recently presents 103 legitimate whenever orders explicitly admitted judgments identical prescribed permissible previous prove involve crime aid consistently assumption arising completely convicted regardless reasoning response permits rehearing assumed prosecution enforce consequences statements opinions occasion submitted create degree upheld offered approach oral alternative charges guilty underlying observed controversy real violate gives 101 officer total went continue recent taking hardly curiam impose limits Fifth committed controlling reasonably justified scheme proof discussion pertinent writ constitutionally suggest serious re limit possibility ruling office aside plainly jury challenged Fourteenth seek written conviction Ex constitute analysis greater type remand bring engaged test nevertheless accept intent equal valid life mean times created independent suggested thereby seeking claimed forth agreed obtained defined 99 congressional context go single construed expressed entirely dismissed substantially majority charge commission often inconsistent quite attempt violated obtain five open failed end sense establish allowed Subsequent 98 Particularly protect relied criminal put property Syllabus once requiring prevent separate 74 determining permitted 56 97 additional adopted statutes duty left 57 Brief again expressly 76 defendant III leave construction 72 scope American authorized direct 94 imposed entered addition number procedure specifically 58 70 absence 68 Clause rejected 75 53 period 63 66 permit 64 generally read 71 51 individual 100 67 situation legislative petition pursuant just 78 issues conduct motion 52 term Constitution Chief 85 44 alleged meaning decide history 47 93 87 89 possible Simply 90 position 92 protection remanded 84 88 43 several apply properly free legal violation believe 39 intended II Supreme nature makes 38 37 recognized took applicable 41 true far point 42 36 later requires noted provide concluded contrary 40 means laws every clearly including review determine 34 light consider constitutional appropriate decisions very ordered statutory 35 least provision less 33 established interest purposes jurisdiction 32 terms find applied Most reasons Amendment sought provisions appeal trial long unless having used respect Otherwise though second person conclusion whom brought need application years ground different him itself 31 Congress three hold use claim proceedings respondent argument based Another set prior through evidence power rather necessary provided rule consideration reason 27 each provides 29 holding 30 clear Although either dissenting subject given being Petitioner statute basis us 26 purpose result 24 stated now 25 reversed well view 23 effect denied right required what action 22 While might certiorari courts found 21 28 Thus cannot them both out then further order issue shall some fact Appeals will 19 even 20 our first two can cases therefore New delivered within federal who same act since where 17 18 more 16 against State time must could those do law he without after 14 should 15 did granted decision does they before 13 made than his question When also held Argued here because these whether 12 upon all 11 one only there other 10 were If Decided had See so been has may would but such judgment its any under have opinion United are at from We which an states was or be With Justice It not case as by this that on in and is to for court no the of U.S. S.Ct. L.Ed.2d MISSOURI, Petitionerv.Danny HUNTER. No. 81-1214. Nov. 10, 1982. Jan. 19, 1983. A years, felony. first-degree years. Respondent, revolver, action, action. respondent's Amendment. \"same offense\" v. States, 299, 180, L.Ed. 306, i.e., statutes, one, not. Held: Clause. Pp. 365-369. (a) trial, intended. 365-368. (b) imposition, statutes. 684, 1432, 715; 333, 1137, 275. \"in intent,\" Whalen, supra, 692, 1438, intent. Accordingly, where, here, \"same\" Blockburger, court's trial. P. 679. S.W.2d 374, remanded. M. Koppe, City, Mo. petitioner. L. Gardner, Mo., respondent. court. 1 \"armed action\" robbery—the felony—violates 2 * 24, 1978, & P Missouri. manager's manager, point, safes. robbers, revolver. progress, off-duty officer. stop. escaped. 3 apprehended. line-up, evidence. degree, malice. 4 Missouri's Mo.Ann.Stat.App. § 560.120 (Vernon 1979), provides: 5 \"Every person, presence, will, person; wife, servant, agent, thereof, degree.\" 6 560.135 1979) part: . .\" 7 Mo.Stat.App. 559.225 8 \"[A]ny by, with, use, assistance, and, conviction, weapon. parole, probation, years.\" 9 years' robbery; action; (c) assault, Appeals, 15-year (1981). Haggard, (Mo.1981); Sours State, (Mo.), nom. Sours, 962, 2935, (1980) (Sours I ); (1980), cert. denied, 1131, 953, (1981) ). State's 15, 1981. certiorari, --- ----, 1767, (1982), remand. I, supra.1 case, robbery. (1932), Amendment's S.W.2d, 216. \"prohibits felony.\" Id., 223. defendant's action.2 (1980). remand, II, offense, offenses.3 recently, (1981).4 court, however, unpersuaded, stating: \"Until government, transaction.\" 51. Amendment; statute. \"twice jeopardy.\" \" 'to offense.' 1, 11, 2141, 2147, (1978), 184, 187, 221, 223, (1957). violated. Rather, \"protects offense.\" Pearce, 711, 717, 2072, 2076, (1969). Clause's punishments. law. offense. stated: \"The provisions, not.\" U.S., 304, S.Ct., 182. terms: 'same offense,' intent.\" 691-692, 1437-1438 (emphasis added). rule: \"[W]here permitted, Congress.\" 693, clear, therefore, \"clear construction, (1981), marihuana. There, 'each [that] not.' 339, 1142, petitioners' Blockburger. See, e.g., Co. 781, 1125, (1946). because: 'rule construction,' example, 340, \"[n]othing test.\" Ibid. language: [T]he imposed. intended, punishments, Constitution.\" 344, added) (footnote omitted). crime. addition, cumulative. O'Brien Skinner, 524, 531, 740, 743, (1974). Clause, conclusion. far, clear. Legislatures, courts, punishments.5 District, opinion. ordered. MARSHALL, joins, dissenting. offence.\" 717-718, 2076-2077, (1969); Benz, 307-308, 113, 114, (1931); Lange, (18 Wall.) 163, 169, 173-175, (1873). lesser-included robbery, crimes. trials, offence\" Clause.1 Oklahoma, 682, 2912, (1977) (per Ohio, 161, 2221, (1977). below, punishment. 182, (1932). act, mind, robbery: crime, (e.g., term) \"offence\" law, \"put limb.\" jeopardy\" meaning, two, three, legislature's punishment, result. name, offenses, second, third, on.3 brief, 18-19, matters, brought, charge. freedom, charges; prison, verdict. prosecution's charges. arrested, charged, Moreover, weak, that, innocent, choice—a innocence.\" Indiana, 76, 81, 271, 273, (1966) (Fortas, J., certiorari).4 Government's imposed, consequences, jurisdictions. Maryland, 784, 790, 2056, 2060, York, 40, 53-58, 1889, 1897-1900, (1968). faces. Furthermore, community. Hart, Contemp. Probs. 401, 404-405 (1958). community, reputation. O'Clair F.2d 1199, (CA1 1972), 921, 2741, (1973). severity. convictions, him. hand. defendant. considerations, transaction. prosecutions, content—that offenses.5 legislature. cases,6 is. protection, cases. legislature, dissent. Constitution, Const. art. \"has 'only jury.' 211, 67, (Mo.1972). Clearly, Amendment, provision, arose, Treadway, (Mo.1977), 838, 124, (1978); Valentine, (Mo.1979). cases, instances. [W]e statute, (in enlarging) jeopardy, Kane, 372, (Mo.1982). denied. moot. instances, petitions, supra. Counselman, 990, 1690, same: \"Certiorari granted, vacated, [450 275].\" \"as 'in Albernaz.' 49. first, acquittal. violence. Mo.Rev.Stat. (1979). charged. 208, 217-220 (Mo.1980), (1982). Cf. (defendant firearms). contrary. 1145, ante, 367-368 dicta. test, test. relies, 366-367, question. decide, 689, (\"The so.\") supplied). procedure, dispute. 343, 1004, (1965); Tsanas, 345-346 (CA2), 995, 1647, (1978). ago. Nielsen, 176, 186-188, 672, 675-676, (1889). also, Snow, 274, 556, (1887). case. not, Brandeis's 250, (1927), other, 253.\n",
      "\n",
      "Sample processed text from test split:\n",
      "ambushed extraditable Meese Jong 6577 Thornburgh thresholds Eire forgiving Maureen Heckler Agosto reopens absentia nonmandatory reapplication nondiscretionary slapped BIA resubmission Protocol extradited nonpolitical Marcello unsavory surmounted protract undeserving Pedreiro Doherty coloration deporting frontiers decreeing Ireland asylum abusing Irish negating 1987 leap tempting deportability APA surreptitiously movant signatory Extradition compares indulgence inconsistently analogue repeats nominally Provisional Aerospace expel deport acceded deportable defaults persecution Kingdom procedurally Ha ineligibility unworthy enlist cutoff parallels Patrick inexorably misses waivers Refugee defaulted duplicative remands belated deported couched tactical adduce pertains disagrees foreclosure creature overturning warranting disclaims discerned formidable conforming prohibitory reopening advises excerpt withdrawing positively interprets Shaughnessy sham wishing simultaneous uncommon uncontroverted disfavored alternate collaterally phenomenon foreseen Captain reopened mistakes denominated 1102 verbatim Colonies diligence native Republican reopen abstain escaped faithfully surprise 1108 foreseeable Mary decisional permissive acquiesced substituting specification destination assurances Herbert deportation specifications eventual 1107 declines substitutes 1039 pain rigorous arrival NATURALIZATION Nationality satisfactorily overturned functional acquiescence inconceivable territories expose withdrew ineligible 1117 alteration British notify treaty specifies oppose inadequacy statutorily reprinted Associate overturn proffered observance commanded specifying IMMIGRATION aliens capricious losing cite imperative plead magistrate designate entail killed decade unrealistic feared KENNEDY 868 unaware technically designation unsuccessfully Contracting expansive produces 938 implemented arguendo 943 theories ineffective withdrawal arisen conjunction countries abused incorrect retains fellow Convention writs adduced advise rarely breadth plurality stringent finality 786 insistence physically withholding NLRB derive alien Republic committing prejudicial default clarity facie withdrawn concession prima 755 eligibility involvement requesting prevailed 802 implementation Irrespective 908 Nations introduce puts illegally 823 suspension differs delegated commitment 912 derives administering withdraw attributed completion happened automatic Army administer threshold contested bases litigant specify substituted questioning begun renders 808 mode 677 responded withhold newly enumerated affording wishes examining Bell adjustment prevents formally dispositive concede objects seized altered murder complied 615 714 participated refuses anticipated suspended presenting 719 requests negative objected extremely discovery fell 703 assured reversing waiver selection deliberate qualify reconsideration describe brings discovered identify affidavit Richard raising Permission adopting confirmed eligible waived presumed examples arrangement 599 England unwilling initiated contest acquire petitions 1980 import leads pursue evidentiary therefor circumstance discretionary Joseph calls respectively paper habeas assurance 467 mandatory sets outcome membership car works twice prison harm forward promptly move eliminated INS vacate motions opposition securing timely promulgated proposal rejection ample 470 se unrelated thereupon 498 institution determines requisite CFR absolutely forbids prevented discuss automatically wish crimes corpus live ten threatened whatsoever bringing acceptance competent furnish 502 successful territory relevance unusual determinations 452 sent implicit STEVENS offenses 491 arrest 480 failing selected allows construing declaratory implication THOMAS signed questioned 485 Citing explain Northern concludes embodied precluded asserting vested sentenced regulatory chose containing 464 471 subsection rejecting injunctive 434 exchange production maximum reflects establishes soon temporary 176 450 272 abuse voluntary Your broader receiving BLACKMUN causes asserts willing 208 initially play 189 identified eliminate fear adverse equivalent improper explanation recognizes conferred disagree capacity supporting obligations Paragraph appealed advantage eight delay 204 reviewed anyone refusing rationale sometimes quoting reads exclusion attempts contemplated erred arbitrary stage qualified authorizes adoption merit adequately inter located 314 vote level designated forms considerable prepared 436 cover 112 virtue significantly 416 mentioned passing accorded 107 108 types 134 normally notwithstanding offer removed nonetheless usually joined current named 116 object produced comply 123 September expected premise confined sort wrong advised ordinarily social detailed refuse phrase began existed proved 326 reject changed November events returned divided takes submit consequence believed want 111 frequently citizen something normal establishing resolved satisfy Article somewhat concerns dealt fails 104 political relies get risk conceded 349 concluding injunction 106 developed bear home reaching afford difficulty 105 321 introduced initial produce effectively sentence substantive foreign attack relying December includes tried recognition role objection emphasized efforts rests sure you filing granting considering ruled security procedural indication mind explained freedom 401 constituted announced deciding interpreted says presents raise afforded understanding ultimately loss represented precise orders stating quoted 1954 sufficiently explicitly ordinary admitted proposition obligation judgments prescribed better narrow discussed especially permissible previous benefits prove denying crime ultimate subsequently post Requested moved seeks regardless reasoning refusal satisfied response rehearing factual secure assumed hearings governing group statements hence submitted applying treated portion acting primary longer surely Precisely degree upheld material unlawful IV offered alternative oral reading return sole status guilty underlying six exception officer 101 months unable remains specified theory remain former procedures outside regulations fifth country committed agency practical reasonably know receive together justified became proof request ever discussion pertinent suggests suggest serious supported deal re limit possibility Relating challenge obviously denial disposition deny account challenged proposed am instance seek apparent error applies constitute always last greater able inquiry regulation type remand bring doing Title engaged known served himself asked allow character accept notice actions enough accepted importance connection serve life mean described existing assume equally previously independent gave suggested thereby discretion asserted followed burden despite reverse merits cited favor agreed administrative adequate defined none come difficult change related 99 Attorney context entire placed actually justify mere single why days expressed concern earlier according large charge showing matters contained standards often operation inconsistent fully face obtain conditions principles whole failed interpretation establish sense certainly allowed subsequent administration me 98 particularly third instead counsel issued protect standard broad relied four directed civil refused above received put final solely Syllabus once requiring prevent latter opportunity original interests already principle members great permitted event 56 additional adopted duty grant concerning 57 concurring show again expressly III leave construction scope 54 authorized grounds direct requirements relief 94 imposed words proceeding various finally 59 entered doubt too addition contention hearing Procedure 55 58 Service Board absence example rejected called 75 53 81 63 permit specific common failure my 64 requirement today seems March reach 62 51 added manner beyond 67 situation conclude rules legislative pursuant just how 78 issues motion 48 52 46 appears term CHIEF 85 44 finding claims form alleged meaning practice 61 determined statement decide history never reasonable 47 Among exercise simply 90 policy available position special 49 remanded 84 June 43 several apply properly much legal 39 intended say York II nature similar makes 38 determination questions 37 recognized language per took 45 applicable making 60 relevant 41 50 true Far cause point 42 36 later requires proper noted provide concluded due Circuit contrary 40 means laws every clearly including review judicial determine 34 consider very ordered statutory 35 indeed least process limited provision nothing about merely 33 established agree until interest entitled 32 find applied most reasons take Judge following taken authority sought neither provisions think appeal filed trial unless during Government having used particular respect otherwise though Second person way presented considered require conclusion whom facts brought need support application years ground him itself 31 Congress three record hold claim proceedings Respondent argument Section certain based set Another prior evidence power own rather necessary involved provided consideration Rule circumstances reason 27 provides matter 29 30 clear Although either dissenting subject given being affirmed petitioner statute basis us 26 purpose result stated 24 now 25 reversed well course view over 23 effect denied right required what 22 action While might nor make courts found 21 General 28 thus into cannot them both present out then further order between issue shall some fact Appeals 19 will even 20 our first two can therefore cases new delivered within District federal who same Act since where 17 18 more 16 against time state must could those do he law without After 14 Part should did 15 granted decision does they before 13 made than his question When also held Argued here because these whether 12 upon all 11 one only There other 10 were if Decided had See so been has May would but judgment such its any under have opinion United are at from We which an States was or be with JUSTICE It not case as by this that on AND in is to for court no of the U.S. S.Ct. L.Ed.2d SERVICE, Petitionerv.Joseph DOHERTY. No. 90-925. Oct. 16, 1991. Jan. 15, 1992. Doherty, a Kingdom, of, alia, Ireland. (INS) him, (Act), 1986, and, Act, deported. Judge, INS' designation, Ireland, (BIA) affirmed. pending, asylum. Doherty's BIA. reopen, reversed, on, (1) reopening, (2) 1986. reopen. things, BIA's that, v. Abudu, 94, 904, 90, evidence, Held: reversed. F.2d (CA2 1990), I, proceedings. General. Rios-Pineda, 444, 446, 2098, 2100, 452. regulation, 8 § 3.2, terms: material, available, hearing, granted. Thus, discretionary, Phinpathya, 183, 188, n. 6, 584, 588, 401, \"broad discretion\" motions. supra, U.S., 449, 2102. evidence. unavailable, review. 105, S.Ct., 911. alien's relief, 99, 3, 908, deportation. claims. Pp. 322-324. JUSTICE, WHITE, BLACKMUN, O'CONNOR, General, law, reopening. denied, Additionally, Act's new, ordered. Moreover, 104-105, 911-912, 3.2's unforeseeability, construction, Abudu adduced. discretion. construing, under, regulations. 324-327. KENNEDY, hearing. alternative, country. However, claims, Judge. 327-329. REHNQUIST, C.J., JJ., joined, II, III, J., joined. SCALIA, part, SOUTER, THOMAS, case. E. Mahoney, Washington, D.C., petitioner. Boresz Pike, City, respondent. O'CONNOR join, joins. 1 Respondent, 1982. States, respondent's withdrawn. 2 Kingdom. 1980, Army, Westmacott. Westmacott verdict, held; charges, imprisonment. 3 1982, alias. 1983, (INS), him. Stat. U.S.C. 1158.1 4 1984, Sprizzo, 3184, F.Supp. 270, (SDNY 1984). rebuffed. 1985), aff'd, 1986).2 5 concluded, resumed. 12, 1253(a).3 would, 1253(a), \"be States.\" App. Pet. Cert. 158a. 11, 1987, order, deportee's \"in conclusion.\" Id., 155a. 6 3.1(h)(iii) (1987).4 reopened. 1988, States. 7 anticipate, persecution. Thornburgh's proceeding. order. Dept. INS, 1990). Appeals, standard. Meese's determining, requested. Court's (1988), deportation, addition, determinations. cases. . .\" F.2d, 1121. 9 certiorari, ----, 950, (1991), grounds. First, reopening; second, 1986; third, deportation,5 grounds, * propositions. proceeding, (1985). here, 3.2 (1987), terms; granted: \"Reopening reconsideration. \". (1984), rehearing, 107-108, 913. where, matter, 450, \"at least\" reopen—failure sought, satisfied, sought. 911-912. \"regardless [for relief].\" 909, 3.6 itself, issued, regulations, well. Ibid.7 therefore, \"new fact\" \"it 66a. 1253(a) \"if territory, discretion, case, made.8 \"fact,\" \"[t]he 'new' sufficient, process.\" 67a. Government's \"new,\" \"evidence.\" Ireland's new. General's \"unforeseeable\" \"[n]either law.\" 1115. question, (1987) \"shall \"reasonably initially\" \"previously evidence,\" unforeseeability. sentence, think, above. adduced; see, e.g., Fed.Rule Civ.Proc. 60(b)(2) \"newly 59(b). hold, proceeding.9 alien, infra, time. decision. statutes. them. Wang, 139, 140, 1027, 1029, (1981) (per curiam). found, advantage. Appeals' 1122. 208.11 words, hearing.10 another, proceedings.11 deported.12 chose, Judge.13 \"incompatible narrow, broad, course. \"deliberate decision,\" SOUTER part. I relief; withholding-of-deportation claim. (Part below.) II); claim, III). INS's withholding; record. IV.) discretionary. Ante, 323. limits. \"the 'common law' action,\" Chaney, 821, 832, 1649, 1656, (APA) \"hold [it] aside.\" 706(2). (Although (INA), Bonds, 302, 757, L.Ed. (1955), do, Pedreiro, 48, 591, (1955).)1 depends, course, believe, does, \"reopening\" court—a grace. fact, includes, extent, \"remand proceedings.\" system, appeal. such. Doural, & N Dec. (BIA 1981). \"reopen\" suggests. 2102, (1985), here. 243(h) INA, amended, exceptions: (other 241(a)(4)(D) [8 1251(a)(4)(D) ] ) race, religion, nationality, group, opinion.\" 1253(h)(1) (emphasis added). accident. Cardoza-Fonseca, 421, 428-429, 1207, 1211-1212, States' nonrefoulement 33.1 Refugees, U.N.T.S. 150, (1954), U.S.T. 6259, 6276, T.I.A.S. (1968).2 \"authorized\" circumstances, 1253(h) (1976 ed., Supp. 1968, Convention, \"honored dictates\" 243(h). 429. provision, \"basically [of Convention].\" Stevic, 407, 2489, 2496, (1984). this. reopen: \"First, or, initially, (1987). (asylum, status, ), ahead, were, ., met, relief.\" 911-912 (prima evidence/reasonable explanation) respectively, default. deny, \"merits-deciding\" requirements. validates, view, asylum, remedy, 1158(a). \"political,\" above-quoted suggests, relief. 106, (\"[Our decisions] abuse-of-discretion denial, nature, .\") here—as Court, (1984) withholding. valid. A. asserted, reopening—a accept, 327, 329—that \"waived\" be. deported, (and Kingdom's extradition) 208.3(b) (1983), INA. favor, mind, application, deportability, 1253(a). (Doherty's motive, apparently, quickly, Kingdom.) (IJ), application. exists, however; reapplication. withdrawal, IJ Doherty: \"Q. won't and/or correct? \"A. correct. departure? making? correct.\" country, deportability. context, exchange, me, allowed. waived, \"alternate\" destination, destination: designation? doesn't him? Honor, right. So, objection, then, alternate? That's correct, Honor.\" counsel's accepted. waiver, accepted—which subtle, waiver: possible. \"There respondent\" 328; \"[r]espondent withdraw\" ibid.; context. frailty; follow. rule—viz., request\" \"prior proceeding.\" Unfortunately, \"raise-it-as-soon-as-possible\" it.3 \"reasonable explanation\" exist, qualify: \"I Ireland; abstention; importance.\" explain,\" snare. sure, did, said, decision\" alternate. decisions; penalties, taken, law. B reopening—and accepts, 324, hearing,\" 3.8(a) \"evidence 3.2. 1108, 1115-1116 \"material\" 1988. returned. matter. fac[t] offered.\" far, sense, remands. Suppose, example, destination. [that] available\" disposition. concedes, reopening—yet argued, reopening,\" \"[i]f that. judgment, necessary. C briefs: it. suspect, based. Presumably, 242.17(e) (1986), \"[a]n 242.17(c), alternate, one, acceptance.4 continues: [INA] [i.e., Judge]. .\"5 (Doherty because, Government, proceeding.) (if mind): \"withholding officer\" 242.17(c) for, \"[an] section.\" litigation: in, destinations. more—wishing \"object now, never\" never\"—can contains. find, litigation, source, mean. Indeed, first-ever, unforewarned right, lawful. Cf. Co., 267, 294-295, 1757, 1771-1772, (1974). whatever, occur. II), I). one. True—but outset, (i.e., discretion) suggest. (\"remand\" word) IJ, all. also, \"abuse discretion,\" designation. reconsideration,\" part: \"[N]or hearing.\" proceeding—and appeal, action, (remand) available. motion, proceedings, arguing, (after default), (with procedures), \"arbitrary\" content, defaults, conclusion, (as I) 243(h)(1). \"serious [Doherty] crime,\" 1253(h)(2)(C), \"assisted, participated\" \"on opinion,\" 1253(h)(2)(A).6 1116-1117. \"leaping ahead\" \"not relief\" (citing 912). clear, \"leap-over\" 332-333. determination, record, (indeed, prima-facie-case determination), wrong. present—for \"political\"—\"raise record.\" 1117. true, always; 56, 104, 911, fact-intensive involved. entered, notice, \"nonpolitical.\" 1158(a) provides, 1101(a)(42)(A) \"any person's well-founded opinion. Meese, 1986); Thornburgh, 1991). event, conclusion. 134a-142a. \"(1) \"(2) that— \"(A) ordered, incited, assisted, opinion; [or] \"(C) (1988 ed. Supp.II). (1983). \"respondent proceeding,\" 111, 915, SCALIA's post, 730. \"oppose[d] States\" \"an deportation.\" 34. 9, cases, \"application request.\" 324. explained. Ghana ineffective. 97, 908. 157a. counsel: correct?\" replied: \"That again: making?\" affirmative. 32. case—an court—has 1105a, \"replaced 748, 752-753, 2081, 2085, (1978). (\"The thereof, corpus, jurisdiction\"). provides: \"No ('refouler ') provisions, 33.1, 31, 1967, [1968] 6223, 6225, 6577. that—despite implication—the 327-328, 10, request,\" 3. footnote, claim; asylum; requirement—the 208.11—will normally, point: request. 1096, (CA9 1986). piggy-backed provision: Cause. Colonies.\" 243(a) acceptance, application.\" (1986). 243(h)(2) that: 1253(h)(2)(A), (C).\n"
     ]
    }
   ],
   "source": [
    "from datasets import load_dataset\n",
    "from sklearn.feature_extraction.text import TfidfVectorizer\n",
    "from collections import OrderedDict\n",
    "\n",
    "\n",
    "# Fit a TF-IDF vectorizer on the training texts ONLY\n",
    "train_texts = dataset[\"train\"][\"text\"]\n",
    "vectorizer = TfidfVectorizer(lowercase=True)\n",
    "vectorizer.fit(train_texts)\n",
    "\n",
    "# Create a dictionary mapping each token to its IDF score\n",
    "idf_dict = dict(zip(vectorizer.get_feature_names_out(), vectorizer.idf_))\n",
    "\n",
    "def deduplicate_and_sort(text):\n",
    "    \"\"\"\n",
    "    Remove duplicate tokens (preserving first occurrence) and then sort \n",
    "    the unique tokens in descending order according to their TF-IDF scores.\n",
    "    \n",
    "    Tokens not seen during training (and thus not in idf_dict) get a default score of 0.\n",
    "    \"\"\"\n",
    "    # Tokenize the text using whitespace splitting; adjust if more advanced tokenization is needed.\n",
    "    tokens = text.split()\n",
    "    \n",
    "    # Remove duplicates while preserving order\n",
    "    seen = set()\n",
    "    unique_tokens = []\n",
    "    for token in tokens:\n",
    "        # Convert to lowercase for checking against the TF-IDF dictionary\n",
    "        lower_token = token.lower()\n",
    "        if lower_token not in seen:\n",
    "            seen.add(lower_token)\n",
    "            unique_tokens.append(token)\n",
    "    \n",
    "    # Sort tokens by TF-IDF score in descending order. If a token isn't present, default to 0.\n",
    "    sorted_tokens = sorted(unique_tokens, key=lambda t: idf_dict.get(t.lower(), 0), reverse=True)\n",
    "    \n",
    "    # Join back into a single string\n",
    "    return \" \".join(sorted_tokens)\n",
    "\n",
    "def process_batch(example):\n",
    "    \"\"\"\n",
    "    Process a batch of examples by applying deduplication and TF-IDF based sorting\n",
    "    to the \"text\" field.\n",
    "    \"\"\"\n",
    "    new_texts = [deduplicate_and_sort(t) for t in example[\"text\"]]\n",
    "    return {\"text\": new_texts}\n",
    "\n",
    "# Map the processing function to all splits (train, validation, test if available)\n",
    "new_dataset = dataset.map(process_batch, batched=True)\n",
    "\n",
    "# (Optional) Check a sample from each split\n",
    "print(\"Sample processed text from train split:\")\n",
    "print(new_dataset[\"train\"][0][\"text\"])\n",
    "\n",
    "if \"validation\" in new_dataset:\n",
    "    print(\"\\nSample processed text from validation split:\")\n",
    "    print(new_dataset[\"validation\"][0][\"text\"])\n",
    "\n",
    "if \"test\" in new_dataset:\n",
    "    print(\"\\nSample processed text from test split:\")\n",
    "    print(new_dataset[\"test\"][0][\"text\"])"
   ]
  },
  {
   "cell_type": "code",
   "execution_count": 3,
   "id": "73c8c694",
   "metadata": {},
   "outputs": [],
   "source": [
    "def compute_lengt(new_dataset):\n",
    "    highest=0\n",
    "    total_length=0\n",
    "    for idx in range(len(new_dataset['train'])):\n",
    "        total_length+=len(new_dataset['train'][idx]['text'])\n",
    "        if len(new_dataset['train'][idx]['text']) > highest:\n",
    "            highest=len(new_dataset['train'][idx]['text'])\n",
    "    print (f'The average length of documents in training dataset is {round(total_length/len(new_dataset['train']))}\\nThe lengthiest document in the dataset contains {highest} number of tokens')        "
   ]
  },
  {
   "cell_type": "code",
   "execution_count": 4,
   "id": "b41269bc",
   "metadata": {},
   "outputs": [
    {
     "name": "stdout",
     "output_type": "stream",
     "text": [
      "The average length of documents in training dataset is 35723\n",
      "The lengthiest document in the dataset contains 562772 number of tokens\n"
     ]
    }
   ],
   "source": [
    "compute_lengt(dataset)"
   ]
  },
  {
   "cell_type": "code",
   "execution_count": 5,
   "id": "9bd89d5a",
   "metadata": {},
   "outputs": [
    {
     "name": "stdout",
     "output_type": "stream",
     "text": [
      "The average length of documents in training dataset is 12137\n",
      "The lengthiest document in the dataset contains 96425 number of tokens\n"
     ]
    }
   ],
   "source": [
    "compute_lengt(new_dataset)"
   ]
  },
  {
   "cell_type": "code",
   "execution_count": 6,
   "id": "057fdbcd",
   "metadata": {},
   "outputs": [
    {
     "data": {
      "application/vnd.jupyter.widget-view+json": {
       "model_id": "c6663c90851948a78bdf4da2098bfe0c",
       "version_major": 2,
       "version_minor": 0
      },
      "text/plain": [
       "Uploading the dataset shards:   0%|          | 0/1 [00:00<?, ?it/s]"
      ]
     },
     "metadata": {},
     "output_type": "display_data"
    },
    {
     "data": {
      "application/vnd.jupyter.widget-view+json": {
       "model_id": "804eef34d1b442ccafa720a335160a3b",
       "version_major": 2,
       "version_minor": 0
      },
      "text/plain": [
       "Creating parquet from Arrow format:   0%|          | 0/5 [00:00<?, ?ba/s]"
      ]
     },
     "metadata": {},
     "output_type": "display_data"
    },
    {
     "data": {
      "application/vnd.jupyter.widget-view+json": {
       "model_id": "97e038e8fe254bb89344d4d602c444cd",
       "version_major": 2,
       "version_minor": 0
      },
      "text/plain": [
       "Uploading the dataset shards:   0%|          | 0/1 [00:00<?, ?it/s]"
      ]
     },
     "metadata": {},
     "output_type": "display_data"
    },
    {
     "data": {
      "application/vnd.jupyter.widget-view+json": {
       "model_id": "ee7e4de691114b2999be109eb275bb72",
       "version_major": 2,
       "version_minor": 0
      },
      "text/plain": [
       "Creating parquet from Arrow format:   0%|          | 0/2 [00:00<?, ?ba/s]"
      ]
     },
     "metadata": {},
     "output_type": "display_data"
    },
    {
     "data": {
      "application/vnd.jupyter.widget-view+json": {
       "model_id": "dd0d999dcc924cd6922416318c2f32a5",
       "version_major": 2,
       "version_minor": 0
      },
      "text/plain": [
       "Uploading the dataset shards:   0%|          | 0/1 [00:00<?, ?it/s]"
      ]
     },
     "metadata": {},
     "output_type": "display_data"
    },
    {
     "data": {
      "application/vnd.jupyter.widget-view+json": {
       "model_id": "87f27b7b9d744eb185c08ab79e4b1a66",
       "version_major": 2,
       "version_minor": 0
      },
      "text/plain": [
       "Creating parquet from Arrow format:   0%|          | 0/2 [00:00<?, ?ba/s]"
      ]
     },
     "metadata": {},
     "output_type": "display_data"
    },
    {
     "data": {
      "text/plain": [
       "CommitInfo(commit_url='https://huggingface.co/datasets/victorambrose11/scotus_deduplicate_sort/commit/77d196d8cd6c8115e1d5f0ca3503186733de05b3', commit_message='Upload dataset', commit_description='', oid='77d196d8cd6c8115e1d5f0ca3503186733de05b3', pr_url=None, repo_url=RepoUrl('https://huggingface.co/datasets/victorambrose11/scotus_deduplicate_sort', endpoint='https://huggingface.co', repo_type='dataset', repo_id='victorambrose11/scotus_deduplicate_sort'), pr_revision=None, pr_num=None)"
      ]
     },
     "execution_count": 6,
     "metadata": {},
     "output_type": "execute_result"
    }
   ],
   "source": [
    "new_dataset.push_to_hub(\"victorambrose11/scotus_deduplicate_sort\")"
   ]
  },
  {
   "cell_type": "markdown",
   "id": "4e09b6cb",
   "metadata": {},
   "source": [
    "# Normalize Deduplicate and Sort the words bassed on TFIDF"
   ]
  },
  {
   "cell_type": "code",
   "execution_count": 7,
   "id": "bb725ab2",
   "metadata": {},
   "outputs": [
    {
     "data": {
      "application/vnd.jupyter.widget-view+json": {
       "model_id": "c320a0bb6adc400db79e78ccbc019830",
       "version_major": 2,
       "version_minor": 0
      },
      "text/plain": [
       "README.md:   0%|          | 0.00/894 [00:00<?, ?B/s]"
      ]
     },
     "metadata": {},
     "output_type": "display_data"
    },
    {
     "data": {
      "application/vnd.jupyter.widget-view+json": {
       "model_id": "af009b0fb6d84b848b2d097101dc3014",
       "version_major": 2,
       "version_minor": 0
      },
      "text/plain": [
       "train-00000-of-00001.parquet:   0%|          | 0.00/95.9M [00:00<?, ?B/s]"
      ]
     },
     "metadata": {},
     "output_type": "display_data"
    },
    {
     "data": {
      "application/vnd.jupyter.widget-view+json": {
       "model_id": "c65442af0c8148da9d5c8d24d5665733",
       "version_major": 2,
       "version_minor": 0
      },
      "text/plain": [
       "test-00000-of-00001.parquet:   0%|          | 0.00/40.0M [00:00<?, ?B/s]"
      ]
     },
     "metadata": {},
     "output_type": "display_data"
    },
    {
     "data": {
      "application/vnd.jupyter.widget-view+json": {
       "model_id": "cff0bd31106d48b58c5832091f098695",
       "version_major": 2,
       "version_minor": 0
      },
      "text/plain": [
       "validation-00000-of-00001.parquet:   0%|          | 0.00/39.1M [00:00<?, ?B/s]"
      ]
     },
     "metadata": {},
     "output_type": "display_data"
    },
    {
     "data": {
      "application/vnd.jupyter.widget-view+json": {
       "model_id": "9f999ded406440779dcefe2693cc58af",
       "version_major": 2,
       "version_minor": 0
      },
      "text/plain": [
       "Generating train split:   0%|          | 0/5000 [00:00<?, ? examples/s]"
      ]
     },
     "metadata": {},
     "output_type": "display_data"
    },
    {
     "data": {
      "application/vnd.jupyter.widget-view+json": {
       "model_id": "873443d8c4674f5fa31f3ee90f582f3b",
       "version_major": 2,
       "version_minor": 0
      },
      "text/plain": [
       "Generating test split:   0%|          | 0/1400 [00:00<?, ? examples/s]"
      ]
     },
     "metadata": {},
     "output_type": "display_data"
    },
    {
     "data": {
      "application/vnd.jupyter.widget-view+json": {
       "model_id": "00d21bb652ea4f23988c12fa930d44a9",
       "version_major": 2,
       "version_minor": 0
      },
      "text/plain": [
       "Generating validation split:   0%|          | 0/1400 [00:00<?, ? examples/s]"
      ]
     },
     "metadata": {},
     "output_type": "display_data"
    },
    {
     "data": {
      "text/plain": [
       "DatasetDict({\n",
       "    train: Dataset({\n",
       "        features: ['text', 'label'],\n",
       "        num_rows: 5000\n",
       "    })\n",
       "    test: Dataset({\n",
       "        features: ['text', 'label'],\n",
       "        num_rows: 1400\n",
       "    })\n",
       "    validation: Dataset({\n",
       "        features: ['text', 'label'],\n",
       "        num_rows: 1400\n",
       "    })\n",
       "})"
      ]
     },
     "execution_count": 7,
     "metadata": {},
     "output_type": "execute_result"
    }
   ],
   "source": [
    "dataset = load_dataset(\"victorambrose11/normalized_scotus\")\n",
    "dataset"
   ]
  },
  {
   "cell_type": "code",
   "execution_count": 8,
   "id": "7cfd07f1",
   "metadata": {},
   "outputs": [
    {
     "data": {
      "application/vnd.jupyter.widget-view+json": {
       "model_id": "10cc8ebc7b584c9f80d9fc683b647461",
       "version_major": 2,
       "version_minor": 0
      },
      "text/plain": [
       "Map:   0%|          | 0/5000 [00:00<?, ? examples/s]"
      ]
     },
     "metadata": {},
     "output_type": "display_data"
    },
    {
     "data": {
      "application/vnd.jupyter.widget-view+json": {
       "model_id": "76b70b47fc9e435e9c82ac523c44aba8",
       "version_major": 2,
       "version_minor": 0
      },
      "text/plain": [
       "Map:   0%|          | 0/1400 [00:00<?, ? examples/s]"
      ]
     },
     "metadata": {},
     "output_type": "display_data"
    },
    {
     "data": {
      "application/vnd.jupyter.widget-view+json": {
       "model_id": "420a9e769acb48b59b537de2daeea1ea",
       "version_major": 2,
       "version_minor": 0
      },
      "text/plain": [
       "Map:   0%|          | 0/1400 [00:00<?, ? examples/s]"
      ]
     },
     "metadata": {},
     "output_type": "display_data"
    },
    {
     "name": "stdout",
     "output_type": "stream",
     "text": [
      "Sample processed text from train split:\n",
      "Cimarron offerers Valvoline servitudes Enid racks arouses 19a mastery CHAMPLIN connects refinery Uncle charts tanks crosses converts maps understands subjection enclosed connect Sam tank crude tariffs indiscriminately departures unitary calculating pricing pipeline deliveries finished vitally inventory Originating continually carriage valuation differential generality disclaimed destination supplementary contemplation classify flows compiled remedied transmission wells gathering aforesaid purview stations Harry marketing premature commodity intrastate pipe lying producers REFINING convey departed fields partly transporting technically petroleum subordinate commodities treats owns exceeds falling transported artificial storage 1906 expenditures offend meaningless Valley copies Rock belonging schedule distributing truck hypothetical petitioned hire conventional practicable terminal Naturally road delegated manufacturing master expand greatest freight respond supplies prepare utility transport convened covers desires Edward putting east drawing concrete prices arrived delivery competitive miles conformity formula evil calculated carriers brings carrier across Oklahoma carries BURTON undertake satisfactory affords car hereinafter owners purchased doubts stop stock timely Admittedly ownership enterprise possessed classification water 516 ends processes subjects overruled rates list furnish bears description companies operates regulatory objections dependent incident market intentionally govern treat technical refer applicability felt decree 234 imposing products obligations invoked product evident regulate length range owner contemplated transportation railroad extensive rate nearly carrying methods cover virtue mentioned facilities supports physical letter oil 329 produced comply addressed effects bearing detailed goes operated natural returned believed owned frequently violates subjected satisfy changes JACKSON authorize injunction bear price sale 308 cost December substance sum includes rests lines intention president Interstate standing file says interpreted appellant warrant carried covered definition orders stating economic prescribed heard method ultimate carry South requested moved Western response self Rehearing points measure contends acting offered seem charges affect sole status chapter condition taking Fifth controlling value accordance Commerce request pertinent suggests meet Examination distinction account approved challenged difference dealing U5 KF65 information applies last Annotated always greater regulation bring Title engaged asked test complete accept equal described significant California thereby despite actual reverse adequate defined change entire days construed private dismissed thereof express charge showing operation quite face deemed conditions five interpretation sense included line issued Counsel Standard broad Commission include directed report above directly join put acts property final pages Once dissent requiring become determining additional concerning show again expressly suit construction scope authorized requirements regard still words various doubt too addition contention hearing 58 service clause called period specific common requirement control reach added manner beyond 67 situation legislative How 48 yet 46 term DOUGLAS meaning practice Atlantic history never reasonable amended 47 up simply 90 extent 49 84 June several apply properly much 91 say similar questions 37 recognized except language substantial applicable 60 41 far cause requires provide due means every including place Judicial determine 34 consider appropriate very ordered statutory process less about give merely applied reasons taken page authority sought Amendment provisions think Appeal filed long used respect though public considered conclusion whom facts brought support ground different itself Congress three hold use Section certain another prior through et power own company provided consideration reason 27 each provides matter 29 holding 30 although subject given being large statute basis us 26 purpose well view over 23 Denied judge required what 22 While said Nor make found 21 KF62 28 into cannot them out then further order between shall some fact will 19 even 20 our first can cases delivered within District Act since same 17 18 more 16 against state must Those do without After 14 part should 15 did their law does they before Code 13 made than his question when also held Argued here Because These whether 12 upon all 11 one only there other 10 were if Decided See had so been has may would but such its any under have opinion reports are from no at we which an was be with Justice it not or case as by versus This that on Number in and United is STATES to for the of Supreme Court Reporter U.S. 1 L.Ed. COv.UNITED al. 21. Oct. 18, 21, 1946. Nov. Dec. 16, 831, 363. Oklahoma. Messrs.Dan Moody, Austin, Tex., O. Glasser, Enid, Okla., appellant. Mr. Dumbauld, Washington, D.C., appel- [Argument omitted] lees. Court. Commission, § Act,1 inventories, schedules, property.2 Champlin's order, unconstitutional, company's injunction.3 appeal. Code, 238, 345, 345. 2 a six-inch states. refinery, Kansas, Nebraska, Dakota, Iowa. Hutchinson, Kansas; Superior, Rapids, Iowa, made. 3 statute, relevant, 'to in,' 'transportation commodity' another. also, 'common carrier' 'all pipe-line companies.'4 appellant's operation. 4 contends, however, 'transportation' one's goods. line; transported, transport, person; points; refinery; instance; body. 5 Cases, 548, 956, 1459, States, 141, 160, 151, case. 'simply use, all, * *.' 562, 959, 1459. Act. 6 Champlin. line. hire. companies—a included. oil, completed; use. advantage. 7 moved. f.o.b. differential. (usually purchaser's business) destination. found, 'sometimes described.' 'rail price, transportation.' so, frequent, 8 Commission's information. 9 that, construed, carrier. implication. products. record. be. far, person. does, present, premonitions. Amendment. Affirmed. REED, FRANKFURTER, dissenting. 19a.1 sections, appellant, Company, make, sections. customers. carrier, oil. bar, stock. line, only, involved, in—* oil' commodities. engaged, act, lines, offered, act's 'if sell' carrier's price. case, Statutes-at-Large 584, 1920, 474, language. 145, 162, 151. noted, interstate. substance, form. offered. 'When, end.' Cases. construction, Court's interpretation. approach. 304(a)(3), U.S.C.A 304(a)(3). legislation. facilities.2 others, 'merely company. purpose—to market. tanks. competition. elsewhere. Commission. does. 'every provisions' 'subject 1(1)(b) 1(3). Therefore, construed. 1, to' Thus, instances, comers, (§ 1(4—6)); 6(1). If, requirements, 1. above, '* shall, investigate, ascertain, detail, provided, property, practicable, equipment, Commission.' 701, 19a, 19a. 15, 1941, 'a land, quantities, units, classes, kinds, thereof.' Nos. 27, comply. 12, 1944, complains. order. request. viewpoint. status. 14, 1942, reargument, §§ U.S.C., 46, 47, court, petition. '(1) (That) '(b) commodity, *. '(3) (a) companies; sleeping-car persons, artificial, hire.' amended, 1102, 1(3)(a), 'engaged hire', 'not companies.' 146, 1: in— gas, water; *' 19a: chapter. 558, 559, 958, 1459: 'By before-mentioned Ocean, points.'\n",
      "\n",
      "Sample processed text from validation split:\n",
      "Albernaz Cichos misperceived butt trio Sansone Albrecht Blockburger cumulatively feloniously Burks supermarket Whalen reexamined Sibron felonious accomplices perpetration stature nominally Gary 1438 discerning reexamination misreading firearms harsher substantively 1436 Benton habitual marihuana deadly warranting positively 1145 stigma accomplishing proscribing manifests fired 1575 negate incorrectly corrections 1143 1203 drove crystal consecutive 1054 shot inescapably Murray Tobacco killing pronouncement alert rape gun punishments presumptively strengthen hesitate commits nearby conditional proscribes cumulative overlooks theoretical complying proscribe enlarge Philip analyzed enhance prescribing prescribes Aims calendar acquittal evening pure apt distinguishes phrased sentencing typically irrational offender advances assault latitude condemnation hazards unequivocally specially store Jeopardy branches 882 distribute committing weapon robbery stopped differing front adjudged districts confession uniformity multiple fire concurrent compromise offering increases 820 917 manager discloses induce adhered qualification 872 sentences legislatures moral 646 673 perceive clerk punishable 702 convict felony 715 658 declares predicated putting murder Green Double 1981 victim suspended assessed arrived Harris 603 utilized 558 ended reversing vehicle 592 punish doubtful prosecutor submission 622 reconsideration 707 656 respectfully Kansas proscribed eligible armed assumes commit BURGER dangerous achieved punished bars import meaningful conspiracy collateral precludes 572 convinced saw emphasize 475 precedents net trials 619 593 violence violative twice prison branch release vacate creation 584 timely prosecutions defines 470 debate historical execution forbids damage fine 629 505 crimes defining ten transaction whereby bringing cast separately sub relevance STEVENS offenses 432 Missouri enacting parte prescribe retain elsewhere turned else 446 presumption acknowledged 535 sentenced intend 459 chose century represents struck content 135 convictions subsection rejecting penalty demonstrates 173 435 450 437 define 445 forbidden Carolina 439 amicus treat threat transfer background BLACKMUN causes familiar imprisonment 208 elements punishment REHNQUIST identified 433 175 fear equivalent imposing 187 distinct 275 reduced 284 easily 148 imposition advantage usual 374 repeatedly imposes 412 quoting 190 131 authorizes serves nearly 120 449 formal 282 199 element critical demands 414 273 392 accorded agent dismissal notwithstanding restrictions 359 September 354 addressed entry ordinarily 118 refuse phrase began reject November bank remained 355 thing returned divided passage assertion 395 something along Brown subjected wide satisfy 328 concerns relies constitutes division 385 risk 306 authorize contrast irrelevant legislature task ability lead 380 sentence contended injury likewise violations vacated her told apart employee offense tried police 377 immediate 102 bound prohibition indication impact announced regarded men interpreted recently presents 103 legitimate whenever orders explicitly admitted judgments identical prescribed permissible previous prove involve crime aid consistently assumption arising completely convicted regardless reasoning Western response permits rehearing assumed prosecution enforce consequences statements opinions occasion submitted create degree upheld offered approach oral alternative charges guilty underlying observed controversy real violate gives 101 officer total went continue recent taking hardly curiam impose limits Fifth committed controlling reasonably justified scheme proof discussion pertinent writ constitutionally suggest serious re limit possibility ruling office aside plainly jury challenged Fourteenth seek written conviction Ex constitute North analysis greater type remand bring engaged test nevertheless accept intent equal valid life mean times created independent suggested thereby seeking claimed forth agreed obtained defined 99 congressional context go single construed expressed entirely dismissed substantially majority charge often inconsistent quite attempt violated obtain five open failed end sense establish allowed Subsequent 98 Particularly protect commission relied criminal put property Syllabus once requiring prevent separate 74 determining permitted 56 97 additional adopted duty left 57 Brief again expressly 76 III leave construction 72 scope authorized direct 94 imposed defendant entered addition procedure specifically 58 70 absence 68 Clause rejected 75 53 period 63 66 permit 64 generally read 71 51 individual 100 67 situation legislative petition pursuant just 78 issues conduct motion 52 term Chief 85 44 Constitution alleged meaning decide history 47 American 93 87 89 possible Simply 90 position 92 protection remanded 84 88 43 several apply properly free legal violation believe 39 intended II nature makes 38 37 recognized took applicable 41 true far point 42 36 later requires noted provide concluded contrary 40 means every laws clearly including review determine 34 light consider constitutional appropriate very ordered statutory 35 least provision less 33 established interest purposes jurisdiction 32 terms find applied Most reasons sought Amendment provisions appeal trial long unless having used respect Otherwise though second person conclusion whom brought need application years ground different him itself 31 Congress three hold use claim proceedings respondent argument based Another set prior through evidence power rather necessary provided rule consideration reason 27 each provides 29 holding 30 clear Although either dissenting subject given being Petitioner statute basis us 26 purpose result 24 stated now 25 statutes reversed well view 23 effect denied right required what action 22 While might certiorari courts found 21 28 Thus cannot them both out then further order issue shall some fact Appeals will 19 even 20 our two first can therefore cases New delivered within decisions who act same since where 17 18 more 16 against State time must could those do he without after 14 should 15 did law granted does they decision before 13 made than his question When also held Argued here because these whether 12 upon all 11 one only there other 10 were If Decided had See so been federal has may would but such judgment its any under have opinion are from no at We which an was be With Justice It not or case as by this that series on number in and United is states to for the of court Supreme U.S. S.Ct. L.Ed.2d MISSOURI, Petitionerv.Danny HUNTER. No. 81-1214. Nov. 10, 1982. Jan. 19, 1983. A years, felony. first-degree years. Respondent, revolver, action, action. respondent's Amendment. \"same offense\" v. States, 299, 180, L.Ed. 306, i.e., statutes, one, not. Held: Clause. Pp. 365-369. (a) trial, intended. 365-368. (b) imposition, statutes. 684, 1432, 715; 333, 1137, 275. \"in intent,\" Whalen, supra, 692, 1438, intent. Accordingly, where, here, \"same\" Blockburger, court's trial. P. 679. S.W.2d 374, remanded. M. Koppe, City, Mo. petitioner. L. Gardner, Mo., respondent. court. 1 \"armed action\" robbery—the felony—violates 2 * 24, 1978, & P Missouri. manager's manager, point, safes. robbers, revolver. progress, off-duty officer. stop. escaped. 3 apprehended. line-up, evidence. degree, malice. 4 Missouri's Mo.Ann.Stat.App. § 560.120 (Vernon 1979), provides: 5 \"Every person, presence, will, person; wife, servant, agent, thereof, degree.\" 6 560.135 1979) part: . .\" 7 Mo.Stat.App. 559.225 8 \"[A]ny by, with, use, assistance, and, conviction, weapon. parole, probation, years.\" 9 years' robbery; action; (c) assault, Appeals, 15-year (1981). Haggard, (Mo.1981); Sours State, (Mo.), nom. Sours, 962, 2935, (1980) (Sours I ); (1980), cert. denied, 1131, 953, (1981) ). State's 15, 1981. certiorari, --- ----, 1767, (1982), remand. I, supra.1 case, robbery. (1932), Amendment's S.W.2d, 216. \"prohibits felony.\" Id., 223. defendant's action.2 (1980). remand, II, offense, offenses.3 recently, (1981).4 court, however, unpersuaded, stating: \"Until government, transaction.\" 51. Amendment; statute. \"twice jeopardy.\" \" 'to offense.' 1, 11, 2141, 2147, (1978), 184, 187, 221, 223, (1957). violated. Rather, \"protects offense.\" Pearce, 711, 717, 2072, 2076, (1969). Clause's punishments. law. offense. stated: \"The provisions, not.\" U.S., 304, S.Ct., 182. terms: 'same offense,' intent.\" 691-692, 1437-1438 (emphasis added). rule: \"[W]here permitted, Congress.\" 693, clear, therefore, \"clear construction, (1981), marihuana. There, 'each [that] not.' 339, 1142, petitioners' Blockburger. See, e.g., Co. 781, 1125, (1946). because: 'rule construction,' example, 340, \"[n]othing test.\" Ibid. language: [T]he imposed. intended, punishments, Constitution.\" 344, added) (footnote omitted). crime. addition, cumulative. O'Brien Skinner, 524, 531, 740, 743, (1974). Clause, conclusion. far, clear. Legislatures, courts, punishments.5 District, opinion. ordered. MARSHALL, joins, dissenting. offence.\" 717-718, 2076-2077, (1969); Benz, 307-308, 113, 114, (1931); Lange, (18 Wall.) 163, 169, 173-175, (1873). lesser-included robbery, crimes. trials, offence\" Clause.1 Oklahoma, 682, 2912, (1977) (per Ohio, 161, 2221, (1977). below, punishment. 182, (1932). act, mind, robbery: crime, (e.g., term) \"offence\" law, \"put limb.\" jeopardy\" meaning, two, three, legislature's punishment, result. name, offenses, second, third, on.3 brief, 18-19, matters, brought, charge. freedom, charges; prison, verdict. prosecution's charges. arrested, charged, Moreover, weak, that, innocent, choice—a innocence.\" Indiana, 76, 81, 271, 273, (1966) (Fortas, J., certiorari).4 Government's imposed, consequences, jurisdictions. Maryland, 784, 790, 2056, 2060, York, 40, 53-58, 1889, 1897-1900, (1968). faces. Furthermore, community. Hart, Contemp. Probs. 401, 404-405 (1958). community, reputation. O'Clair F.2d 1199, (CA1 1972), 921, 2741, (1973). severity. convictions, him. hand. defendant. considerations, transaction. prosecutions, content—that offenses.5 legislature. cases,6 is. protection, cases. legislature, dissent. Constitution, Const. art. \"has 'only jury.' 211, 67, (Mo.1972). Clearly, Amendment, provision, arose, Treadway, (Mo.1977), 838, 124, (1978); Valentine, (Mo.1979). cases, instances. [W]e statute, (in enlarging) jeopardy, Kane, 372, (Mo.1982). denied. moot. instances, petitions, supra. Counselman, 990, 1690, same: \"Certiorari granted, vacated, [450 275].\" \"as 'in Albernaz.' 49. first, acquittal. violence. Mo.Rev.Stat. (1979). charged. 208, 217-220 (Mo.1980), (1982). Cf. (defendant firearms). contrary. 1145, ante, 367-368 dicta. test, test. relies, 366-367, question. decide, 689, (\"The so.\") supplied). procedure, dispute. 343, 1004, (1965); Tsanas, 345-346 (CA2), 995, 1647, (1978). ago. Nielsen, 176, 186-188, 672, 675-676, (1889). also, Snow, 274, 556, (1887). case. not, Brandeis's 250, (1927), other, 253.\n",
      "\n",
      "Sample processed text from test split:\n",
      "ambushed extraditable Meese Jong 6577 Thornburgh thresholds Eire forgiving Maureen Heckler Agosto reopens absentia nonmandatory reapplication nondiscretionary slapped BIA resubmission Protocol extradited nonpolitical Marcello unsavory surmounted protract undeserving Pedreiro Doherty coloration deporting frontiers decreeing Ireland asylum abusing Irish negating 1987 leap tempting deportability APA surreptitiously movant signatory Extradition compares indulgence inconsistently analogue repeats nominally Provisional Aerospace expel deport acceded deportable defaults persecution Kingdom procedurally Ha ineligibility unworthy enlist cutoff parallels Patrick inexorably misses waivers Refugee defaulted duplicative remands belated deported couched tactical adduce pertains disagrees foreclosure creature overturning warranting disclaims discerned formidable conforming prohibitory reopening advises excerpt CFR withdrawing positively interprets Shaughnessy sham wishing simultaneous uncommon uncontroverted INS disfavored alternate collaterally phenomenon foreseen Captain reopened mistakes denominated 1102 verbatim Colonies diligence native Republican reopen abstain escaped faithfully surprise 1108 foreseeable Mary decisional permissive acquiesced substituting specification destination assurances Herbert deportation specifications eventual 1107 declines substitutes 1039 pain rigorous arrival NATURALIZATION satisfactorily overturned functional acquiescence inconceivable territories expose withdrew ineligible 1117 alteration British notify treaty specifies oppose inadequacy statutorily reprinted Associate overturn proffered observance commanded specifying aliens capricious losing cite imperative plead magistrate designate entail killed decade unrealistic feared KENNEDY 868 unaware technically designation unsuccessfully Contracting expansive produces 938 implemented arguendo 943 theories ineffective withdrawal arisen conjunction countries abused incorrect retains fellow Convention writs adduced advise rarely breadth plurality stringent finality 786 insistence physically withholding NLRB derive alien Republic committing prejudicial default clarity facie withdrawn concession prima 755 eligibility involvement requesting prevailed 802 implementation Irrespective 908 Nations introduce puts illegally 823 suspension differs delegated commitment 912 derives administering withdraw attributed completion happened automatic Army administer threshold contested bases litigant specify substituted questioning begun renders 808 mode 677 responded withhold newly enumerated affording wishes examining Bell adjustment prevents formally dispositive concede objects seized altered murder complied 615 714 participated refuses anticipated suspended presenting 719 requests negative objected extremely discovery fell 703 assured reversing waiver selection deliberate qualify reconsideration describe brings discovered identify affidavit Richard raising Permission adopting confirmed eligible waived presumed examples arrangement 599 England unwilling initiated contest acquire petitions 1980 import leads pursue evidentiary therefor circumstance discretionary Joseph calls respectively paper habeas assurance 467 mandatory sets outcome membership car works twice prison harm forward promptly move eliminated vacate motions opposition securing timely promulgated proposal rejection ample 470 se unrelated thereupon 498 institution determines requisite absolutely forbids prevented discuss automatically wish crimes corpus live ten threatened whatsoever bringing acceptance competent furnish 502 successful territory relevance unusual determinations 452 sent implicit STEVENS offenses 491 arrest 480 failing selected allows construing declaratory implication THOMAS signed questioned 485 Citing explain Northern concludes embodied precluded asserting vested sentenced regulatory chose containing 464 471 subsection rejecting injunctive 434 exchange production maximum reflects establishes soon temporary 176 450 272 abuse voluntary Your broader receiving BLACKMUN causes asserts willing 208 initially play 189 identified eliminate fear adverse equivalent improper explanation recognizes conferred disagree capacity supporting obligations Paragraph appealed advantage eight delay 204 reviewed anyone refusing rationale sometimes quoting reads exclusion attempts contemplated erred arbitrary stage qualified authorizes adoption merit adequately inter located 314 vote level designated forms considerable prepared 436 cover 112 virtue significantly 416 mentioned passing accorded 107 108 types 134 normally notwithstanding offer removed nonetheless usually joined current named 116 object produced comply 123 September expected premise confined sort wrong advised ordinarily social detailed refuse phrase began existed proved 326 reject changed November events returned divided takes submit consequence believed want 111 frequently citizen something normal establishing resolved satisfy somewhat concerns dealt fails 104 political relies get risk conceded 349 concluding injunction 106 developed bear home reaching afford difficulty 105 321 introduced initial produce effectively sentence substantive foreign attack relying December includes tried recognition role objection emphasized efforts rests sure you filing granting considering ruled security procedural indication mind explained freedom 401 constituted announced deciding interpreted says presents raise afforded understanding ultimately loss represented precise orders stating quoted 1954 sufficiently explicitly ordinary admitted proposition obligation judgments prescribed better narrow discussed especially permissible previous benefits prove denying crime ultimate subsequently post Requested moved seeks regardless reasoning refusal satisfied response rehearing factual secure assumed hearings governing group statements hence submitted applying treated portion acting primary longer surely Precisely degree upheld material unlawful IV offered alternative oral reading return sole status guilty underlying six exception officer 101 months unable remains specified theory remain former procedures outside fifth country committed agency practical reasonably know receive together justified became proof request ever discussion pertinent suggests suggest serious supported deal re limit possibility Relating challenge obviously denial disposition deny account challenged proposed am instance seek regulations apparent error applies last constitute always greater able inquiry regulation type remand bring Title engaged known served himself doing asked Article allow character accept notice actions enough accepted importance connection serve life mean described existing assume equally previously independent gave suggested thereby discretion asserted followed burden despite reverse merits cited favor agreed administrative adequate defined none come difficult change related 99 Attorney context entire placed actually justify mere single why days expressed concern earlier according charge showing matters contained standards often operation inconsistent fully face obtain conditions principles whole failed interpretation establish sense certainly allowed subsequent administration me 98 particularly third instead issued protect counsel standard broad relied four directed civil refused above received put final solely Syllabus once requiring prevent latter opportunity original interests already principle members great permitted event 56 additional adopted duty grant concerning 57 concurring show again expressly III leave construction scope 54 authorized grounds direct requirements relief 94 imposed words proceeding various finally 59 entered doubt too addition contention hearing Procedure 55 58 Service Board absence example rejected called 75 53 81 63 permit specific common failure my 64 requirement today seems March reach 62 51 added manner beyond 67 situation conclude rules legislative pursuant just how 78 issues motion 48 52 46 appears term CHIEF 85 44 finding claims form alleged meaning practice 61 determined statement decide history never reasonable 47 Among exercise simply 90 policy available position special 49 remanded 84 June 43 several apply properly much legal 39 intended say II York nature similar makes 38 determination questions 37 recognized language per took 45 applicable making 60 relevant 41 50 true Far cause point 42 36 later requires proper noted provide concluded due Circuit contrary 40 means every laws clearly including review judicial determine 34 consider very ordered statutory 35 indeed least process provision nothing about merely 33 limited established agree until interest entitled 32 find applied most reasons take following taken authority sought neither provisions think appeal filed trial unless during Government having used particular respect otherwise though Second person way presented considered require conclusion whom facts brought need support application years ground him itself 31 Congress three record hold claim proceedings Respondent argument Section certain based set Another prior evidence power own rather necessary involved provided consideration Rule circumstances reason 27 provides matter 29 30 clear Although either dissenting subject given being affirmed large petitioner statute basis us 26 purpose result stated 24 now 25 Nationality reversed well IMMIGRATION course view over 23 effect denied right Judge required what 22 action While might nor make courts found 21 General 28 thus into cannot them both present out then further order between issue shall some fact Appeals 19 will even 20 our first two can therefore cases new delivered within District who Act same since where 17 18 more 16 against time state must could those do he without After 14 Part should did 15 law granted does they decision before 13 made than his question When also held Argued here because these whether 12 upon all 11 one only There other 10 were if Decided had See so been federal has May would but judgment such its any under have opinion are from no at We which an was be with JUSTICE It not or case as by this that on in AND United is States to for of the court U.S. S.Ct. L.Ed.2d SERVICE, Petitionerv.Joseph DOHERTY. No. 90-925. Oct. 16, 1991. Jan. 15, 1992. Doherty, a Kingdom, of, alia, Ireland. (INS) him, (Act), 1986, and, Act, deported. Judge, INS' designation, Ireland, (BIA) affirmed. pending, asylum. Doherty's BIA. reopen, reversed, on, (1) reopening, (2) 1986. reopen. things, BIA's that, v. Abudu, 94, 904, 90, evidence, Held: reversed. F.2d (CA2 1990), I, proceedings. General. Rios-Pineda, 444, 446, 2098, 2100, 452. regulation, 8 § 3.2, terms: material, available, hearing, granted. Thus, discretionary, Phinpathya, 183, 188, n. 6, 584, 588, 401, \"broad discretion\" motions. supra, U.S., 449, 2102. evidence. unavailable, review. 105, S.Ct., 911. alien's relief, 99, 3, 908, deportation. claims. Pp. 322-324. JUSTICE, WHITE, BLACKMUN, O'CONNOR, General, law, reopening. denied, Additionally, Act's new, ordered. Moreover, 104-105, 911-912, 3.2's unforeseeability, construction, Abudu adduced. discretion. construing, under, regulations. 324-327. KENNEDY, hearing. alternative, country. However, claims, Judge. 327-329. REHNQUIST, C.J., JJ., joined, II, III, J., joined. SCALIA, part, SOUTER, THOMAS, case. E. Mahoney, Washington, D.C., petitioner. Boresz Pike, City, respondent. O'CONNOR join, joins. 1 Respondent, 1982. States, respondent's withdrawn. 2 Kingdom. 1980, Army, Westmacott. Westmacott verdict, held; charges, imprisonment. 3 1982, alias. 1983, (INS), him. Stat. U.S.C. 1158.1 4 1984, Sprizzo, 3184, F.Supp. 270, (SDNY 1984). rebuffed. 1985), aff'd, 1986).2 5 concluded, resumed. 12, 1253(a).3 would, 1253(a), \"be States.\" App. Pet. Cert. 158a. 11, 1987, order, deportee's \"in conclusion.\" Id., 155a. 6 3.1(h)(iii) (1987).4 reopened. 1988, States. 7 anticipate, persecution. Thornburgh's proceeding. order. Dept. INS, 1990). Appeals, standard. Meese's determining, requested. Court's (1988), deportation, addition, determinations. cases. . .\" F.2d, 1121. 9 certiorari, ----, 950, (1991), grounds. First, reopening; second, 1986; third, deportation,5 grounds, * propositions. proceeding, (1985). here, 3.2 (1987), terms; granted: \"Reopening reconsideration. \". (1984), rehearing, 107-108, 913. where, matter, 450, \"at least\" reopen—failure sought, satisfied, sought. 911-912. \"regardless [for relief].\" 909, 3.6 itself, issued, regulations, well. Ibid.7 therefore, \"new fact\" \"it 66a. 1253(a) \"if territory, discretion, case, made.8 \"fact,\" \"[t]he 'new' sufficient, process.\" 67a. Government's \"new,\" \"evidence.\" Ireland's new. General's \"unforeseeable\" \"[n]either law.\" 1115. question, (1987) \"shall \"reasonably initially\" \"previously evidence,\" unforeseeability. sentence, think, above. adduced; see, e.g., Fed.Rule Civ.Proc. 60(b)(2) \"newly 59(b). hold, proceeding.9 alien, infra, time. decision. statutes. them. Wang, 139, 140, 1027, 1029, (1981) (per curiam). found, advantage. Appeals' 1122. 208.11 words, hearing.10 another, proceedings.11 deported.12 chose, Judge.13 \"incompatible narrow, broad, course. \"deliberate decision,\" SOUTER part. I relief; withholding-of-deportation claim. (Part below.) II); claim, III). INS's withholding; record. IV.) discretionary. Ante, 323. limits. \"the 'common law' action,\" Chaney, 821, 832, 1649, 1656, (APA) \"hold [it] aside.\" 706(2). (Although (INA), Bonds, 302, 757, L.Ed. (1955), do, Pedreiro, 48, 591, (1955).)1 depends, course, believe, does, \"reopening\" court—a grace. fact, includes, extent, \"remand proceedings.\" system, appeal. such. Doural, & N Dec. (BIA 1981). \"reopen\" suggests. 2102, (1985), here. 243(h) INA, amended, exceptions: (other 241(a)(4)(D) [8 1251(a)(4)(D) ] ) race, religion, nationality, group, opinion.\" 1253(h)(1) (emphasis added). accident. Cardoza-Fonseca, 421, 428-429, 1207, 1211-1212, States' nonrefoulement 33.1 Refugees, U.N.T.S. 150, (1954), U.S.T. 6259, 6276, T.I.A.S. (1968).2 \"authorized\" circumstances, 1253(h) (1976 ed., Supp. 1968, Convention, \"honored dictates\" 243(h). 429. provision, \"basically [of Convention].\" Stevic, 407, 2489, 2496, (1984). this. reopen: \"First, or, initially, (1987). (asylum, status, ), ahead, were, ., met, relief.\" 911-912 (prima evidence/reasonable explanation) respectively, default. deny, \"merits-deciding\" requirements. validates, view, asylum, remedy, 1158(a). \"political,\" above-quoted suggests, relief. 106, (\"[Our decisions] abuse-of-discretion denial, nature, .\") here—as Court, (1984) withholding. valid. A. asserted, reopening—a accept, 327, 329—that \"waived\" be. deported, (and Kingdom's extradition) 208.3(b) (1983), INA. favor, mind, application, deportability, 1253(a). (Doherty's motive, apparently, quickly, Kingdom.) (IJ), application. exists, however; reapplication. withdrawal, IJ Doherty: \"Q. won't and/or correct? \"A. correct. departure? making? correct.\" country, deportability. context, exchange, me, allowed. waived, \"alternate\" destination, destination: designation? doesn't him? Honor, right. So, objection, then, alternate? That's correct, Honor.\" counsel's accepted. waiver, accepted—which subtle, waiver: possible. \"There respondent\" 328; \"[r]espondent withdraw\" ibid.; context. frailty; follow. rule—viz., request\" \"prior proceeding.\" Unfortunately, \"raise-it-as-soon-as-possible\" it.3 \"reasonable explanation\" exist, qualify: \"I Ireland; abstention; importance.\" explain,\" snare. sure, did, said, decision\" alternate. decisions; penalties, taken, law. B reopening—and accepts, 324, hearing,\" 3.8(a) \"evidence 3.2. 1108, 1115-1116 \"material\" 1988. returned. matter. fac[t] offered.\" far, sense, remands. Suppose, example, destination. [that] available\" disposition. concedes, reopening—yet argued, reopening,\" \"[i]f that. judgment, necessary. C briefs: it. suspect, based. Presumably, 242.17(e) (1986), \"[a]n 242.17(c), alternate, one, acceptance.4 continues: [INA] [i.e., Judge]. .\"5 (Doherty because, Government, proceeding.) (if mind): \"withholding officer\" 242.17(c) for, \"[an] section.\" litigation: in, destinations. more—wishing \"object now, never\" never\"—can contains. find, litigation, source, mean. Indeed, first-ever, unforewarned right, lawful. Cf. Co., 267, 294-295, 1757, 1771-1772, (1974). whatever, occur. II), I). one. True—but outset, (i.e., discretion) suggest. (\"remand\" word) IJ, all. also, \"abuse discretion,\" designation. reconsideration,\" part: \"[N]or hearing.\" proceeding—and appeal, action, (remand) available. motion, proceedings, arguing, (after default), (with procedures), \"arbitrary\" content, defaults, conclusion, (as I) 243(h)(1). \"serious [Doherty] crime,\" 1253(h)(2)(C), \"assisted, participated\" \"on opinion,\" 1253(h)(2)(A).6 1116-1117. \"leaping ahead\" \"not relief\" (citing 912). clear, \"leap-over\" 332-333. determination, record, (indeed, prima-facie-case determination), wrong. present—for \"political\"—\"raise record.\" 1117. true, always; 56, 104, 911, fact-intensive involved. entered, notice, \"nonpolitical.\" 1158(a) provides, 1101(a)(42)(A) \"any person's well-founded opinion. Meese, 1986); Thornburgh, 1991). event, conclusion. 134a-142a. \"(1) \"(2) that— \"(A) ordered, incited, assisted, opinion; [or] \"(C) (1988 ed. Supp.II). (1983). \"respondent proceeding,\" 111, 915, SCALIA's post, 730. \"oppose[d] States\" \"an deportation.\" 34. 9, cases, \"application request.\" 324. explained. Ghana ineffective. 97, 908. 157a. counsel: correct?\" replied: \"That again: making?\" affirmative. 32. case—an court—has 1105a, \"replaced 748, 752-753, 2081, 2085, (1978). (\"The thereof, corpus, jurisdiction\"). provides: \"No ('refouler ') provisions, 33.1, 31, 1967, [1968] 6223, 6225, 6577. that—despite implication—the 327-328, 10, request,\" 3. footnote, claim; asylum; requirement—the 208.11—will normally, point: request. 1096, (CA9 1986). piggy-backed provision: Cause. Colonies.\" 243(a) acceptance, application.\" (1986). 243(h)(2) that: 1253(h)(2)(A), (C).\n"
     ]
    }
   ],
   "source": [
    "from datasets import load_dataset\n",
    "from sklearn.feature_extraction.text import TfidfVectorizer\n",
    "from collections import OrderedDict\n",
    "\n",
    "\n",
    "# Fit a TF-IDF vectorizer on the training texts ONLY\n",
    "train_texts = dataset[\"train\"][\"text\"]\n",
    "vectorizer = TfidfVectorizer(lowercase=True)\n",
    "vectorizer.fit(train_texts)\n",
    "\n",
    "# Create a dictionary mapping each token to its IDF score\n",
    "idf_dict = dict(zip(vectorizer.get_feature_names_out(), vectorizer.idf_))\n",
    "\n",
    "def deduplicate_and_sort(text):\n",
    "    \"\"\"\n",
    "    Remove duplicate tokens (preserving first occurrence) and then sort \n",
    "    the unique tokens in descending order according to their TF-IDF scores.\n",
    "    \n",
    "    Tokens not seen during training (and thus not in idf_dict) get a default score of 0.\n",
    "    \"\"\"\n",
    "    # Tokenize the text using whitespace splitting; adjust if more advanced tokenization is needed.\n",
    "    tokens = text.split()\n",
    "    \n",
    "    # Remove duplicates while preserving order\n",
    "    seen = set()\n",
    "    unique_tokens = []\n",
    "    for token in tokens:\n",
    "        # Convert to lowercase for checking against the TF-IDF dictionary\n",
    "        lower_token = token.lower()\n",
    "        if lower_token not in seen:\n",
    "            seen.add(lower_token)\n",
    "            unique_tokens.append(token)\n",
    "    \n",
    "    # Sort tokens by TF-IDF score in descending order. If a token isn't present, default to 0.\n",
    "    sorted_tokens = sorted(unique_tokens, key=lambda t: idf_dict.get(t.lower(), 0), reverse=True)\n",
    "    \n",
    "    # Join back into a single string\n",
    "    return \" \".join(sorted_tokens)\n",
    "\n",
    "def process_batch(example):\n",
    "    \"\"\"\n",
    "    Process a batch of examples by applying deduplication and TF-IDF based sorting\n",
    "    to the \"text\" field.\n",
    "    \"\"\"\n",
    "    new_texts = [deduplicate_and_sort(t) for t in example[\"text\"]]\n",
    "    return {\"text\": new_texts}\n",
    "\n",
    "# Map the processing function to all splits (train, validation, test if available)\n",
    "new_dataset = dataset.map(process_batch, batched=True)\n",
    "\n",
    "# (Optional) Check a sample from each split\n",
    "print(\"Sample processed text from train split:\")\n",
    "print(new_dataset[\"train\"][0][\"text\"])\n",
    "\n",
    "if \"validation\" in new_dataset:\n",
    "    print(\"\\nSample processed text from validation split:\")\n",
    "    print(new_dataset[\"validation\"][0][\"text\"])\n",
    "\n",
    "if \"test\" in new_dataset:\n",
    "    print(\"\\nSample processed text from test split:\")\n",
    "    print(new_dataset[\"test\"][0][\"text\"])"
   ]
  },
  {
   "cell_type": "code",
   "execution_count": 9,
   "id": "652147a5",
   "metadata": {},
   "outputs": [
    {
     "name": "stdout",
     "output_type": "stream",
     "text": [
      "The average length of documents in training dataset is 37956\n",
      "The lengthiest document in the dataset contains 584365 number of tokens\n"
     ]
    }
   ],
   "source": [
    "compute_lengt(dataset)"
   ]
  },
  {
   "cell_type": "code",
   "execution_count": 10,
   "id": "33378e2c",
   "metadata": {},
   "outputs": [
    {
     "name": "stdout",
     "output_type": "stream",
     "text": [
      "The average length of documents in training dataset is 12241\n",
      "The lengthiest document in the dataset contains 96529 number of tokens\n"
     ]
    }
   ],
   "source": [
    "compute_lengt(new_dataset)"
   ]
  },
  {
   "cell_type": "code",
   "execution_count": 11,
   "id": "00c496b2",
   "metadata": {},
   "outputs": [
    {
     "data": {
      "application/vnd.jupyter.widget-view+json": {
       "model_id": "3b83b08567a047c8bde9db10ee173732",
       "version_major": 2,
       "version_minor": 0
      },
      "text/plain": [
       "Uploading the dataset shards:   0%|          | 0/1 [00:00<?, ?it/s]"
      ]
     },
     "metadata": {},
     "output_type": "display_data"
    },
    {
     "data": {
      "application/vnd.jupyter.widget-view+json": {
       "model_id": "91a2f81136aa485399dce5e5e233c844",
       "version_major": 2,
       "version_minor": 0
      },
      "text/plain": [
       "Creating parquet from Arrow format:   0%|          | 0/5 [00:00<?, ?ba/s]"
      ]
     },
     "metadata": {},
     "output_type": "display_data"
    },
    {
     "data": {
      "application/vnd.jupyter.widget-view+json": {
       "model_id": "fc36b749c66945d8acc42e4888f75558",
       "version_major": 2,
       "version_minor": 0
      },
      "text/plain": [
       "Uploading the dataset shards:   0%|          | 0/1 [00:00<?, ?it/s]"
      ]
     },
     "metadata": {},
     "output_type": "display_data"
    },
    {
     "data": {
      "application/vnd.jupyter.widget-view+json": {
       "model_id": "42cbca24bc054a4e98c9f110eb24b12f",
       "version_major": 2,
       "version_minor": 0
      },
      "text/plain": [
       "Creating parquet from Arrow format:   0%|          | 0/2 [00:00<?, ?ba/s]"
      ]
     },
     "metadata": {},
     "output_type": "display_data"
    },
    {
     "data": {
      "application/vnd.jupyter.widget-view+json": {
       "model_id": "f7de2effa2754daf818e857bfad99f3c",
       "version_major": 2,
       "version_minor": 0
      },
      "text/plain": [
       "Uploading the dataset shards:   0%|          | 0/1 [00:00<?, ?it/s]"
      ]
     },
     "metadata": {},
     "output_type": "display_data"
    },
    {
     "data": {
      "application/vnd.jupyter.widget-view+json": {
       "model_id": "d1872232ed824fd6b9b8a71c0b4e36b9",
       "version_major": 2,
       "version_minor": 0
      },
      "text/plain": [
       "Creating parquet from Arrow format:   0%|          | 0/2 [00:00<?, ?ba/s]"
      ]
     },
     "metadata": {},
     "output_type": "display_data"
    },
    {
     "data": {
      "text/plain": [
       "CommitInfo(commit_url='https://huggingface.co/datasets/victorambrose11/scotus_normalize_deduplicate_sort/commit/83cabf8713b99e3d39dd94ab72bf6b0d74ecabc3', commit_message='Upload dataset', commit_description='', oid='83cabf8713b99e3d39dd94ab72bf6b0d74ecabc3', pr_url=None, repo_url=RepoUrl('https://huggingface.co/datasets/victorambrose11/scotus_normalize_deduplicate_sort', endpoint='https://huggingface.co', repo_type='dataset', repo_id='victorambrose11/scotus_normalize_deduplicate_sort'), pr_revision=None, pr_num=None)"
      ]
     },
     "execution_count": 11,
     "metadata": {},
     "output_type": "execute_result"
    }
   ],
   "source": [
    "new_dataset.push_to_hub(\"victorambrose11/scotus_normalize_deduplicate_sort\")"
   ]
  },
  {
   "cell_type": "code",
   "execution_count": null,
   "id": "88ac36e3",
   "metadata": {},
   "outputs": [],
   "source": []
  }
 ],
 "metadata": {
  "kernelspec": {
   "display_name": "tamil",
   "language": "python",
   "name": "tamil"
  },
  "language_info": {
   "codemirror_mode": {
    "name": "ipython",
    "version": 3
   },
   "file_extension": ".py",
   "mimetype": "text/x-python",
   "name": "python",
   "nbconvert_exporter": "python",
   "pygments_lexer": "ipython3",
   "version": "3.12.2"
  }
 },
 "nbformat": 4,
 "nbformat_minor": 5
}
