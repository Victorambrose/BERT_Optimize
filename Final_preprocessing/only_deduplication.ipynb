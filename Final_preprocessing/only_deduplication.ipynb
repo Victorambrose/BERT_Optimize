{
 "cells": [
  {
   "cell_type": "markdown",
   "id": "5a1e71c3",
   "metadata": {},
   "source": [
    "# Preprocessing \n",
    "1) Only Deduplicate \n",
    "2) Normalize and Deduplicate"
   ]
  },
  {
   "cell_type": "code",
   "execution_count": 1,
   "id": "d11290d3",
   "metadata": {},
   "outputs": [
    {
     "data": {
      "text/plain": [
       "DatasetDict({\n",
       "    train: Dataset({\n",
       "        features: ['text', 'label'],\n",
       "        num_rows: 5000\n",
       "    })\n",
       "    test: Dataset({\n",
       "        features: ['text', 'label'],\n",
       "        num_rows: 1400\n",
       "    })\n",
       "    validation: Dataset({\n",
       "        features: ['text', 'label'],\n",
       "        num_rows: 1400\n",
       "    })\n",
       "})"
      ]
     },
     "execution_count": 1,
     "metadata": {},
     "output_type": "execute_result"
    }
   ],
   "source": [
    "from datasets import load_dataset\n",
    "\n",
    "dataset = load_dataset(\"coastalcph/lex_glue\", \"scotus\")\n",
    "dataset"
   ]
  },
  {
   "cell_type": "code",
   "execution_count": 2,
   "id": "84a46373",
   "metadata": {},
   "outputs": [
    {
     "name": "stdout",
     "output_type": "stream",
     "text": [
      "{'text': \"329 U.S. 29 67 S.Ct. 1 91 L.Ed. 22 CHAMPLIN REFINING COv.UNITED STATES et al. No. 21. Argued Oct. 18, 21, 1946. Decided Nov. Rehearing Denied Dec. 16, See 831, 363. Appeal from the District Court of United States for Western Oklahoma. Messrs.Dan Moody, Austin, Tex., and Harry O. Glasser, Enid, Okla., appellant. Mr. Edward Dumbauld, Washington, D.C., appel- [Argument Counsel page 30 intentionally omitted] lees. Justice JACKSON delivered opinion Court. The Interstate Commerce Commission, acting under § 19a Act,1 ordered appellant to furnish certain inventories, schedules, maps charts its pipe line property.2 Champlin's objections that Act does not authorize order, or if it be construed do so is unconstitutional, were overruled by Commission again which dismissed company's suit an injunction.3 These questions law are brought here appeal. Judicial Code, 238, 28 U.S.C. 345, U.S.C.A. 345. 2 Champlin owns operates a six-inch 516 miles in length lying five states. Originating at Oklahoma refinery, crosses Kansas, Nebraska, part South Dakota, ends Iowa. It used only convey own refinery products terminal stations Hutchinson, Kansas; Superior, Rock Rapids, Iowa, each connects with storage facilities deliveries made. 3 statute, far as relevant, says shall apply 'to common carriers engaged in,' 'transportation oil other commodity' one state another. provides also, 'common carrier' includes 'all pipe-line companies.'4 This language on face would seem cover appellant's operation. 4 contends, however, 'transportation' mentioned refer carriage one's goods. has found sole owner transported through line; never transported, offered transport, been asked transport any belonging company person; connect but tanks three points; there no putting petroleum product into than Enid refinery; delivery points made means truck racks railroad tank car directly instance; tariffs stating transportation charges have filed State commission regulatory body. 5 Because these facts suggests holding this concerning Uncle Sam Oil Company Pipe Line Cases, 234 548, 34 956, 58 1459, approved Valvoline v. States, 308 141, 60 160, 84 151, govern case. operation described 'simply drawing wells across use, all, * *.' 562, 959, 1459. considered was within meaning Act. 6 But we think expand actual case conclusion Champlin. controlling fact statute transporting commodities line. Admittedly carrier sense hire. However, stop goes say use term include all companies—a meaningless addition thereby included what without more always had included. While technically oil, manufacturing processes completed; being moved use. interstate operated put finished market commerce greatest economic advantage. 7 Examination pricing methods supports view even though still when moved. price f.o.b. additional sum called differential. differential freight rate final destination (usually purchaser's place business) less carrying destination. found, competitive conditions 'sometimes cause departures prices arrived accordance formula above described.' Appellant states some 'rail rates merely basis calculating price, charge transportation.' Even so, calculated substantial frequent, practice up significant distinction 8 We hold Commission's order information. 9 further contends that, construed, exceeds power Congress violates due process clause Fifth Amendment because argued interpretation converts private public utility requires become carrier. our rests such affords implication. regulate dependent technical status quite extensive over his yet invoked extent requiring information marketing products. adequate support requirement whether 10 contention imposing upon obligations conventional hire too premature hypothetical warrant consideration record. entire period carry another may be. So far, changes person. If does, will timely consider concrete requirements their specific effects At present, provide about subject possessed delegated cannot taking property arouses premonitions. 11 before us authorized respect offend Amendment. 12 Affirmed. 13 REED, whom FRANKFURTER, DOUGLAS BURTON join dissenting. 14 appeal brings question covers lines virtue provisions 19a.1 Acting authority sections, appellant, Refining Company, reports deemed appropriate make, act. challenged ground covered sections. 15 similar commodity various distributing carries except produced sale customers. also stock Cimarron Valley admittedly intrastate carrier, supplies crude oil. orders valuation treat unitary bar, disclaimed expressly intention test subjection ownership stock. As treats situation line, between only, involved, accept purpose dissent applied 16 Section act applies in—* oil' commodities. In Co. interpreted companies engaged, purview act, cases, carried although large purchased producers prior lines, held self out indiscriminately offered, act's evident bring scope 'if offerers sell' carrier's price. case, 1906 Act, Stat. 584, amended 1920, 41 474, despite language. 145, 162, 151. 17 noted, cases did interstate. substance, them form. Those Cases substance they offered. continually required company, beyond reach 18 'When, simply regard falling description incident end.' 19 There change bearing applicable acts since Cases. matter statutory construction, see reason Court's long standing interpretation. desires undertake regulation understands method approach. 49 304(a)(3), U.S.C.A 304(a)(3). pertinent legislative history broad legislation. evil sought remedied mastery control gathering facilities.2 others, contemplation 20 said well 'merely difference contemplated company. Each same ultimate purpose—to market. 21 Nor can frequently measure tanks. departed meet competition. Naturally cost must added elsewhere. How much how bear very different provided owners should give Commission. does. 'every provisions' When enterprise 'subject defined 1(1)(b) 1(3). Therefore, construed. definition flows Once 1, subjects dealing to' Thus, several instances, equal reasonable comers, (§ 1(4—6)); file schedule 6(1). If, therefore, doubt felt applicability requirements, doubts properly taken account determining 1. range servitudes subjected including bears vitally construction given 23 For reasons detailed above, reverse decree '* shall, investigate, ascertain, report value owned every make inventory list detail, show thereof hereinafter provided, classify physical property, nearly practicable, conformity classification expenditures road equipment, prescribed Commission.' 37 701, 19a, 19a. On May 15, 1941, letter addressed president requested prepare 'a complete land, showing quantities, units, classes, kinds, condition thereof.' enclosed copies Valuation Orders Nos. 26 27, comply. respond request manner satisfactory June 12, 1944, complains. directed comply 27 90 days service order. response believed satisfy request. returned recognized compiled viewpoint. then hearing determine status. December 14, 1942, reargument, decided After issued supplementary petitioned district court injunction against §§ 46 47 Title U.S.C., 46, 47, judge convened court, heard petition. '(1) (That) '(b) commodity, *. '(3) (a) pipeline companies; express sleeping-car persons, natural artificial, transmission aforesaid hire.' amended, 48 1102, last words 1(3)(a), 'engaged hire', 'not affect generality first companies.' 146, 1: chapter in— water artificial gas, partly water; *' 19a: chapter. pages 558, 559, 958, 1459: 'By before-mentioned subordinate Standard itself master practicable fields east California Atlantic Ocean, greater those points.'\", 'label': 7}\n"
     ]
    }
   ],
   "source": [
    "from collections import OrderedDict\n",
    "from datasets import load_dataset  # if you're using Hugging Face datasets\n",
    "\n",
    "# Define a function that deduplicates a single string.\n",
    "def deduplicate_text(text):\n",
    "    tokens = text.split()  # simple whitespace tokenization\n",
    "    dedup_tokens = list(OrderedDict.fromkeys(tokens))\n",
    "    return \" \".join(dedup_tokens)\n",
    "\n",
    "# Define a batched mapping function to apply deduplication to a batch of texts.\n",
    "def deduplicate_batch(example):\n",
    "    # 'example[\"text\"]' is a list of strings.\n",
    "    new_texts = [deduplicate_text(t) for t in example[\"text\"]]\n",
    "    return {\"text\": new_texts}\n",
    "\n",
    "# For example, load your dataset (replace with your own dataset loading if needed).\n",
    "# dataset = load_dataset(\"your_dataset_name\")\n",
    "# In your case, you might have already loaded your dataset dict.\n",
    "# We assume here 'dataset' is a DatasetDict with \"train\", \"validation\", etc.\n",
    "\n",
    "# Map the deduplication function over the whole dataset (all splits).\n",
    "new_dataset = dataset.map(deduplicate_batch, batched=True)\n",
    "\n",
    "# Optionally, you can check a sample from the new dataset.\n",
    "print(new_dataset[\"train\"][0])"
   ]
  },
  {
   "cell_type": "code",
   "execution_count": 3,
   "id": "0fdaeed2",
   "metadata": {},
   "outputs": [],
   "source": [
    "def compute_lengt(new_dataset):\n",
    "    highest=0\n",
    "    total_length=0\n",
    "    for idx in range(len(new_dataset['train'])):\n",
    "        total_length+=len(new_dataset['train'][idx]['text'])\n",
    "        if len(new_dataset['train'][idx]['text']) > highest:\n",
    "            highest=len(new_dataset['train'][idx]['text'])\n",
    "    print (f'The average length of documents in training dataset is {round(total_length/len(new_dataset['train']))}\\nThe lengthiest document in the dataset contains {highest} number of tokens')        "
   ]
  },
  {
   "cell_type": "code",
   "execution_count": 4,
   "id": "6df68136",
   "metadata": {},
   "outputs": [
    {
     "name": "stdout",
     "output_type": "stream",
     "text": [
      "The average length of documents in training dataset is 35723\n",
      "The lengthiest document in the dataset contains 562772 number of tokens\n"
     ]
    }
   ],
   "source": [
    "compute_lengt(dataset)"
   ]
  },
  {
   "cell_type": "code",
   "execution_count": 5,
   "id": "9eb8dc0d",
   "metadata": {},
   "outputs": [
    {
     "name": "stdout",
     "output_type": "stream",
     "text": [
      "The average length of documents in training dataset is 12613\n",
      "The lengthiest document in the dataset contains 101617 number of tokens\n"
     ]
    }
   ],
   "source": [
    "compute_lengt(new_dataset)"
   ]
  },
  {
   "cell_type": "code",
   "execution_count": 6,
   "id": "5eceaf0c",
   "metadata": {},
   "outputs": [
    {
     "data": {
      "application/vnd.jupyter.widget-view+json": {
       "model_id": "abcb5f34c84a4a58932e71a3fc7942d0",
       "version_major": 2,
       "version_minor": 0
      },
      "text/plain": [
       "Uploading the dataset shards:   0%|          | 0/1 [00:00<?, ?it/s]"
      ]
     },
     "metadata": {},
     "output_type": "display_data"
    },
    {
     "data": {
      "application/vnd.jupyter.widget-view+json": {
       "model_id": "70abd3acb8014077afa2ae5c67f16fd4",
       "version_major": 2,
       "version_minor": 0
      },
      "text/plain": [
       "Creating parquet from Arrow format:   0%|          | 0/5 [00:00<?, ?ba/s]"
      ]
     },
     "metadata": {},
     "output_type": "display_data"
    },
    {
     "data": {
      "application/vnd.jupyter.widget-view+json": {
       "model_id": "dde4adf62b3b448b9b90c43e237aba33",
       "version_major": 2,
       "version_minor": 0
      },
      "text/plain": [
       "Uploading the dataset shards:   0%|          | 0/1 [00:00<?, ?it/s]"
      ]
     },
     "metadata": {},
     "output_type": "display_data"
    },
    {
     "data": {
      "application/vnd.jupyter.widget-view+json": {
       "model_id": "982e14698f784aeabb0643d7988259ab",
       "version_major": 2,
       "version_minor": 0
      },
      "text/plain": [
       "Creating parquet from Arrow format:   0%|          | 0/2 [00:00<?, ?ba/s]"
      ]
     },
     "metadata": {},
     "output_type": "display_data"
    },
    {
     "data": {
      "application/vnd.jupyter.widget-view+json": {
       "model_id": "cef331cfad064751bb4ba1cef572eb62",
       "version_major": 2,
       "version_minor": 0
      },
      "text/plain": [
       "Uploading the dataset shards:   0%|          | 0/1 [00:00<?, ?it/s]"
      ]
     },
     "metadata": {},
     "output_type": "display_data"
    },
    {
     "data": {
      "application/vnd.jupyter.widget-view+json": {
       "model_id": "43d3899c6bff40c494dbe91c5687a189",
       "version_major": 2,
       "version_minor": 0
      },
      "text/plain": [
       "Creating parquet from Arrow format:   0%|          | 0/2 [00:00<?, ?ba/s]"
      ]
     },
     "metadata": {},
     "output_type": "display_data"
    },
    {
     "data": {
      "text/plain": [
       "CommitInfo(commit_url='https://huggingface.co/datasets/victorambrose11/scotus_only_deduplicate/commit/9d7326ce01a0d38bb74f619320f3760f57e9aff7', commit_message='Upload dataset', commit_description='', oid='9d7326ce01a0d38bb74f619320f3760f57e9aff7', pr_url=None, repo_url=RepoUrl('https://huggingface.co/datasets/victorambrose11/scotus_only_deduplicate', endpoint='https://huggingface.co', repo_type='dataset', repo_id='victorambrose11/scotus_only_deduplicate'), pr_revision=None, pr_num=None)"
      ]
     },
     "execution_count": 6,
     "metadata": {},
     "output_type": "execute_result"
    }
   ],
   "source": [
    "new_dataset.push_to_hub(\"victorambrose11/scotus_only_deduplicate\")"
   ]
  },
  {
   "cell_type": "code",
   "execution_count": 10,
   "id": "c7c216e4",
   "metadata": {},
   "outputs": [
    {
     "data": {
      "text/plain": [
       "DatasetDict({\n",
       "    train: Dataset({\n",
       "        features: ['text', 'label'],\n",
       "        num_rows: 5000\n",
       "    })\n",
       "    test: Dataset({\n",
       "        features: ['text', 'label'],\n",
       "        num_rows: 1400\n",
       "    })\n",
       "    validation: Dataset({\n",
       "        features: ['text', 'label'],\n",
       "        num_rows: 1400\n",
       "    })\n",
       "})"
      ]
     },
     "execution_count": 10,
     "metadata": {},
     "output_type": "execute_result"
    }
   ],
   "source": [
    "dataset = load_dataset(\"victorambrose11/normalized_scotus\")\n",
    "dataset"
   ]
  },
  {
   "cell_type": "code",
   "execution_count": 11,
   "id": "7ba3d232",
   "metadata": {},
   "outputs": [
    {
     "data": {
      "application/vnd.jupyter.widget-view+json": {
       "model_id": "45d8322494cb46638464a14498a27caf",
       "version_major": 2,
       "version_minor": 0
      },
      "text/plain": [
       "Map:   0%|          | 0/5000 [00:00<?, ? examples/s]"
      ]
     },
     "metadata": {},
     "output_type": "display_data"
    },
    {
     "data": {
      "application/vnd.jupyter.widget-view+json": {
       "model_id": "06b7f77d5c8647cdb1c4342b9e964c30",
       "version_major": 2,
       "version_minor": 0
      },
      "text/plain": [
       "Map:   0%|          | 0/1400 [00:00<?, ? examples/s]"
      ]
     },
     "metadata": {},
     "output_type": "display_data"
    },
    {
     "data": {
      "application/vnd.jupyter.widget-view+json": {
       "model_id": "b55a6e308cfc4028923f8b2123c94742",
       "version_major": 2,
       "version_minor": 0
      },
      "text/plain": [
       "Map:   0%|          | 0/1400 [00:00<?, ? examples/s]"
      ]
     },
     "metadata": {},
     "output_type": "display_data"
    },
    {
     "name": "stdout",
     "output_type": "stream",
     "text": [
      "{'text': \"329 U.S. 29 67 Supreme Court Reporter 1 91 L.Ed. 22 CHAMPLIN REFINING COv.UNITED STATES et al. Number 21. Argued Oct. 18, 21, 1946. Decided Nov. Rehearing Denied Dec. 16, See 831, 363. Appeal from the District of United States for Western Oklahoma. Messrs.Dan Moody, Austin, Tex., and Harry O. Glasser, Enid, Okla., appellant. Mr. Edward Dumbauld, Washington, D.C., appel- [Argument Counsel page 30 intentionally omitted] lees. Justice JACKSON delivered opinion Court. The Interstate Commerce Commission, acting under § 19a Act,1 ordered appellant to furnish certain inventories, schedules, maps charts its pipe line property.2 Champlin's objections that Act does not authorize order, or if it be construed do so is unconstitutional, were overruled by Commission again which dismissed company's suit an injunction.3 These questions law are brought here appeal. Judicial Code, 238, 28 Code KF62 345, Annotated KF65 U5 345. 2 Champlin owns operates a six-inch 516 miles in length lying five states. Originating at Oklahoma refinery, crosses Kansas, Nebraska, part South Dakota, ends Iowa. It used only convey own refinery products terminal stations Hutchinson, Kansas; Superior, Rock Rapids, Iowa, each connects with storage facilities deliveries made. 3 statute, far as relevant, says shall apply 'to common carriers engaged in,' 'transportation oil other commodity' one state another. provides also, 'common carrier' includes 'all pipe-line companies.'4 This language on face would seem cover appellant's operation. 4 contends, however, 'transportation' mentioned refer carriage one's goods. has found sole owner transported through line; never transported, offered transport, been asked transport any belonging company person; connect but tanks three points; there no putting petroleum product into than Enid refinery; delivery points made means truck racks railroad tank car directly instance; tariffs stating transportation charges have filed State commission regulatory body. 5 Because these facts suggests holding this concerning Uncle Sam Oil Company Pipe Line Cases, 234 548, 34 956, 58 1459, approved Valvoline versus States, 308 141, 60 160, 84 151, govern case. operation described 'simply drawing wells across use, all, * *.' 562, 959, 1459. considered was within meaning Act. 6 But we think expand actual case conclusion Champlin. controlling fact statute transporting commodities line. Admittedly carrier sense hire. However, stop goes say use term include all companies—a meaningless addition thereby included what without more always had included. While technically oil, manufacturing processes completed; being moved use. interstate operated put finished market commerce greatest economic advantage. 7 Examination pricing methods supports view even though still when moved. price f.o.b. additional sum called differential. differential freight rate final destination (usually purchaser's place business) less carrying destination. found, competitive conditions 'sometimes cause departures prices arrived accordance formula above described.' Appellant states some 'rail rates merely basis calculating price, charge transportation.' Even so, calculated substantial frequent, practice up significant distinction 8 We hold Commission's order information. 9 further contends that, construed, exceeds power Congress violates due process clause Fifth Amendment because argued interpretation converts private public utility requires become carrier. our rests such affords implication. regulate dependent technical status quite extensive over his yet invoked extent requiring information marketing products. adequate support requirement whether 10 contention imposing upon obligations conventional hire too premature hypothetical warrant consideration record. entire period carry another may be. So far, changes person. If does, will timely consider concrete requirements their specific effects At present, provide about subject possessed delegated cannot taking property arouses premonitions. 11 before us authorized respect offend Amendment. 12 Affirmed. 13 REED, whom FRANKFURTER, DOUGLAS BURTON join dissenting. 14 appeal brings question covers lines virtue provisions 19a.1 Acting authority sections, appellant, Refining Company, reports deemed appropriate make, act. challenged ground covered sections. 15 similar commodity various distributing carries except produced sale customers. also stock Cimarron Valley admittedly intrastate carrier, supplies crude oil. orders valuation treat unitary bar, disclaimed expressly intention test subjection ownership stock. As treats situation line, between only, involved, accept purpose dissent applied 16 Section act applies in—* oil' commodities. In interpreted companies engaged, purview act, cases, carried although large purchased producers prior lines, held self out indiscriminately offered, act's evident bring scope 'if offerers sell' carrier's price. case, 1906 Act, Statutes-at-Large 584, amended 1920, 41 474, despite language. 145, 162, 151. 17 noted, cases did interstate. substance, them form. Those Cases substance they offered. continually required company, beyond reach 18 'When, simply regard falling description incident end.' 19 There change bearing applicable acts since Cases. matter statutory construction, see reason Court's long standing interpretation. desires undertake regulation understands method approach. 49 304(a)(3), U.S.C.A 304(a)(3). pertinent legislative history broad legislation. evil sought remedied mastery control gathering facilities.2 others, contemplation 20 said well 'merely difference contemplated company. Each same ultimate purpose—to market. 21 Nor can frequently measure tanks. departed meet competition. Naturally cost must added elsewhere. How much how bear very different provided owners should give Commission. does. 'every provisions' When enterprise 'subject defined 1(1)(b) 1(3). Therefore, construed. definition flows Once 1, subjects dealing to' Thus, several instances, equal reasonable comers, (§ 1(4—6)); file schedule 6(1). If, therefore, doubt felt applicability requirements, doubts properly taken account determining 1. range servitudes subjected including bears vitally construction given 23 For reasons detailed above, reverse decree '* shall, investigate, ascertain, report value owned every make inventory list detail, show thereof hereinafter provided, classify physical property, nearly practicable, conformity classification expenditures road equipment, prescribed Commission.' 37 701, 19a, 19a. On May 15, 1941, letter addressed president requested prepare 'a complete land, showing quantities, units, classes, kinds, condition thereof.' enclosed copies Valuation Orders Nos. 26 27, comply. respond request manner satisfactory June 12, 1944, complains. directed comply 27 90 days service order. response believed satisfy request. returned recognized compiled viewpoint. then hearing determine status. December 14, 1942, reargument, decided After issued supplementary petitioned district court injunction against §§ 46 47 Title U.S.C., 46, 47, judge convened court, heard petition. '(1) (That) '(b) commodity, *. '(3) (a) pipeline companies; express sleeping-car persons, natural artificial, transmission aforesaid hire.' amended, 48 1102, last words 1(3)(a), 'engaged hire', 'not affect generality first companies.' 146, 1: chapter in— water artificial gas, partly water; *' 19a: chapter. pages 558, 559, 958, 1459: 'By before-mentioned subordinate Standard itself master practicable fields east California Atlantic Ocean, greater those points.'\", 'label': 7}\n"
     ]
    }
   ],
   "source": [
    "from collections import OrderedDict\n",
    "from datasets import load_dataset  # if you're using Hugging Face datasets\n",
    "\n",
    "# Define a function that deduplicates a single string.\n",
    "def deduplicate_text(text):\n",
    "    tokens = text.split()  # simple whitespace tokenization\n",
    "    dedup_tokens = list(OrderedDict.fromkeys(tokens))\n",
    "    return \" \".join(dedup_tokens)\n",
    "\n",
    "# Define a batched mapping function to apply deduplication to a batch of texts.\n",
    "def deduplicate_batch(example):\n",
    "    # 'example[\"text\"]' is a list of strings.\n",
    "    new_texts = [deduplicate_text(t) for t in example[\"text\"]]\n",
    "    return {\"text\": new_texts}\n",
    "\n",
    "# For example, load your dataset (replace with your own dataset loading if needed).\n",
    "# dataset = load_dataset(\"your_dataset_name\")\n",
    "# In your case, you might have already loaded your dataset dict.\n",
    "# We assume here 'dataset' is a DatasetDict with \"train\", \"validation\", etc.\n",
    "\n",
    "# Map the deduplication function over the whole dataset (all splits).\n",
    "new_dataset = dataset.map(deduplicate_batch, batched=True)\n",
    "\n",
    "# Optionally, you can check a sample from the new dataset.\n",
    "print(new_dataset[\"train\"][0])"
   ]
  },
  {
   "cell_type": "code",
   "execution_count": 12,
   "id": "2b447259",
   "metadata": {},
   "outputs": [
    {
     "name": "stdout",
     "output_type": "stream",
     "text": [
      "The average length of documents in training dataset is 37956\n",
      "The lengthiest document in the dataset contains 584365 number of tokens\n"
     ]
    }
   ],
   "source": [
    "compute_lengt(dataset)"
   ]
  },
  {
   "cell_type": "code",
   "execution_count": 13,
   "id": "bf559205",
   "metadata": {},
   "outputs": [
    {
     "name": "stdout",
     "output_type": "stream",
     "text": [
      "The average length of documents in training dataset is 12732\n",
      "The lengthiest document in the dataset contains 101757 number of tokens\n"
     ]
    }
   ],
   "source": [
    "compute_lengt(new_dataset)"
   ]
  },
  {
   "cell_type": "code",
   "execution_count": 14,
   "id": "43639948",
   "metadata": {},
   "outputs": [
    {
     "data": {
      "application/vnd.jupyter.widget-view+json": {
       "model_id": "04b6752c8c3547e1b33ab2433365e02e",
       "version_major": 2,
       "version_minor": 0
      },
      "text/plain": [
       "Uploading the dataset shards:   0%|          | 0/1 [00:00<?, ?it/s]"
      ]
     },
     "metadata": {},
     "output_type": "display_data"
    },
    {
     "data": {
      "application/vnd.jupyter.widget-view+json": {
       "model_id": "cacdb3c037274a59974dcaa828adee01",
       "version_major": 2,
       "version_minor": 0
      },
      "text/plain": [
       "Creating parquet from Arrow format:   0%|          | 0/5 [00:00<?, ?ba/s]"
      ]
     },
     "metadata": {},
     "output_type": "display_data"
    },
    {
     "data": {
      "application/vnd.jupyter.widget-view+json": {
       "model_id": "e114acf0e7074aaba1d0519c84f2538a",
       "version_major": 2,
       "version_minor": 0
      },
      "text/plain": [
       "Uploading the dataset shards:   0%|          | 0/1 [00:00<?, ?it/s]"
      ]
     },
     "metadata": {},
     "output_type": "display_data"
    },
    {
     "data": {
      "application/vnd.jupyter.widget-view+json": {
       "model_id": "7165a502a8084aab841b0bc8295a0cd2",
       "version_major": 2,
       "version_minor": 0
      },
      "text/plain": [
       "Creating parquet from Arrow format:   0%|          | 0/2 [00:00<?, ?ba/s]"
      ]
     },
     "metadata": {},
     "output_type": "display_data"
    },
    {
     "data": {
      "application/vnd.jupyter.widget-view+json": {
       "model_id": "83466d536a0145b48cc43c8c706a3b64",
       "version_major": 2,
       "version_minor": 0
      },
      "text/plain": [
       "Uploading the dataset shards:   0%|          | 0/1 [00:00<?, ?it/s]"
      ]
     },
     "metadata": {},
     "output_type": "display_data"
    },
    {
     "data": {
      "application/vnd.jupyter.widget-view+json": {
       "model_id": "a0d2fc065fe146ca8491018a9cbb8989",
       "version_major": 2,
       "version_minor": 0
      },
      "text/plain": [
       "Creating parquet from Arrow format:   0%|          | 0/2 [00:00<?, ?ba/s]"
      ]
     },
     "metadata": {},
     "output_type": "display_data"
    },
    {
     "data": {
      "text/plain": [
       "CommitInfo(commit_url='https://huggingface.co/datasets/victorambrose11/scotus_only_normalize_deduplicate/commit/989620f8b650630c44fa7473149ea8823bf29d8f', commit_message='Upload dataset', commit_description='', oid='989620f8b650630c44fa7473149ea8823bf29d8f', pr_url=None, repo_url=RepoUrl('https://huggingface.co/datasets/victorambrose11/scotus_only_normalize_deduplicate', endpoint='https://huggingface.co', repo_type='dataset', repo_id='victorambrose11/scotus_only_normalize_deduplicate'), pr_revision=None, pr_num=None)"
      ]
     },
     "execution_count": 14,
     "metadata": {},
     "output_type": "execute_result"
    }
   ],
   "source": [
    "new_dataset.push_to_hub(\"victorambrose11/scotus_only_normalize_deduplicate\")"
   ]
  },
  {
   "cell_type": "code",
   "execution_count": null,
   "id": "5009280c",
   "metadata": {},
   "outputs": [],
   "source": []
  }
 ],
 "metadata": {
  "kernelspec": {
   "display_name": "tamil",
   "language": "python",
   "name": "tamil"
  },
  "language_info": {
   "codemirror_mode": {
    "name": "ipython",
    "version": 3
   },
   "file_extension": ".py",
   "mimetype": "text/x-python",
   "name": "python",
   "nbconvert_exporter": "python",
   "pygments_lexer": "ipython3",
   "version": "3.12.2"
  }
 },
 "nbformat": 4,
 "nbformat_minor": 5
}
